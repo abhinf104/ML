{
  "nbformat": 4,
  "nbformat_minor": 0,
  "metadata": {
    "colab": {
      "provenance": [],
      "collapsed_sections": [
        "UMcJ0xb95koR",
        "zF53G24txW8K",
        "HBK45ztYpQXO",
        "k41YKbgDrZ3e"
      ]
    },
    "kernelspec": {
      "name": "python3",
      "display_name": "Python 3"
    },
    "language_info": {
      "name": "python"
    }
  },
  "cells": [
    {
      "cell_type": "markdown",
      "source": [
        "# Model"
      ],
      "metadata": {
        "id": "UMcJ0xb95koR"
      }
    },
    {
      "source": [
        "# Install the Google Generative AI package (google-generativeai).\n",
        "# This package is necessary to interact with Google's Gemini AI models.\n",
        "!pip install google-generativeai  # Install the correct package for Google Gemini\n",
        "\n",
        "# Install the LangChain package, which is a framework for building applications powered by language models.\n",
        "# LangChain can be used to manage chains of prompts and calls to LLMs (Large Language Models) like Gemini.\n",
        "!pip install langchain  # Install LangChain, a popular package for LLM workflows\n"
      ],
      "cell_type": "code",
      "metadata": {
        "colab": {
          "base_uri": "https://localhost:8080/"
        },
        "collapsed": true,
        "id": "elUkHGEQhdZV",
        "outputId": "c357f038-66a9-4f19-c803-12143a5f07a0"
      },
      "execution_count": 64,
      "outputs": [
        {
          "output_type": "stream",
          "name": "stdout",
          "text": [
            "Requirement already satisfied: google-generativeai in /usr/local/lib/python3.10/dist-packages (0.7.2)\n",
            "Requirement already satisfied: google-ai-generativelanguage==0.6.6 in /usr/local/lib/python3.10/dist-packages (from google-generativeai) (0.6.6)\n",
            "Requirement already satisfied: google-api-core in /usr/local/lib/python3.10/dist-packages (from google-generativeai) (2.19.2)\n",
            "Requirement already satisfied: google-api-python-client in /usr/local/lib/python3.10/dist-packages (from google-generativeai) (2.137.0)\n",
            "Requirement already satisfied: google-auth>=2.15.0 in /usr/local/lib/python3.10/dist-packages (from google-generativeai) (2.27.0)\n",
            "Requirement already satisfied: protobuf in /usr/local/lib/python3.10/dist-packages (from google-generativeai) (3.20.3)\n",
            "Requirement already satisfied: pydantic in /usr/local/lib/python3.10/dist-packages (from google-generativeai) (2.9.1)\n",
            "Requirement already satisfied: tqdm in /usr/local/lib/python3.10/dist-packages (from google-generativeai) (4.66.5)\n",
            "Requirement already satisfied: typing-extensions in /usr/local/lib/python3.10/dist-packages (from google-generativeai) (4.12.2)\n",
            "Requirement already satisfied: proto-plus<2.0.0dev,>=1.22.3 in /usr/local/lib/python3.10/dist-packages (from google-ai-generativelanguage==0.6.6->google-generativeai) (1.24.0)\n",
            "Requirement already satisfied: googleapis-common-protos<2.0.dev0,>=1.56.2 in /usr/local/lib/python3.10/dist-packages (from google-api-core->google-generativeai) (1.65.0)\n",
            "Requirement already satisfied: requests<3.0.0.dev0,>=2.18.0 in /usr/local/lib/python3.10/dist-packages (from google-api-core->google-generativeai) (2.32.3)\n",
            "Requirement already satisfied: cachetools<6.0,>=2.0.0 in /usr/local/lib/python3.10/dist-packages (from google-auth>=2.15.0->google-generativeai) (5.5.0)\n",
            "Requirement already satisfied: pyasn1-modules>=0.2.1 in /usr/local/lib/python3.10/dist-packages (from google-auth>=2.15.0->google-generativeai) (0.4.0)\n",
            "Requirement already satisfied: rsa<5,>=3.1.4 in /usr/local/lib/python3.10/dist-packages (from google-auth>=2.15.0->google-generativeai) (4.9)\n",
            "Requirement already satisfied: httplib2<1.dev0,>=0.19.0 in /usr/local/lib/python3.10/dist-packages (from google-api-python-client->google-generativeai) (0.22.0)\n",
            "Requirement already satisfied: google-auth-httplib2<1.0.0,>=0.2.0 in /usr/local/lib/python3.10/dist-packages (from google-api-python-client->google-generativeai) (0.2.0)\n",
            "Requirement already satisfied: uritemplate<5,>=3.0.1 in /usr/local/lib/python3.10/dist-packages (from google-api-python-client->google-generativeai) (4.1.1)\n",
            "Requirement already satisfied: annotated-types>=0.6.0 in /usr/local/lib/python3.10/dist-packages (from pydantic->google-generativeai) (0.7.0)\n",
            "Requirement already satisfied: pydantic-core==2.23.3 in /usr/local/lib/python3.10/dist-packages (from pydantic->google-generativeai) (2.23.3)\n",
            "Requirement already satisfied: grpcio<2.0dev,>=1.33.2 in /usr/local/lib/python3.10/dist-packages (from google-api-core[grpc]!=2.0.*,!=2.1.*,!=2.10.*,!=2.2.*,!=2.3.*,!=2.4.*,!=2.5.*,!=2.6.*,!=2.7.*,!=2.8.*,!=2.9.*,<3.0.0dev,>=1.34.1->google-ai-generativelanguage==0.6.6->google-generativeai) (1.64.1)\n",
            "Requirement already satisfied: grpcio-status<2.0.dev0,>=1.33.2 in /usr/local/lib/python3.10/dist-packages (from google-api-core[grpc]!=2.0.*,!=2.1.*,!=2.10.*,!=2.2.*,!=2.3.*,!=2.4.*,!=2.5.*,!=2.6.*,!=2.7.*,!=2.8.*,!=2.9.*,<3.0.0dev,>=1.34.1->google-ai-generativelanguage==0.6.6->google-generativeai) (1.48.2)\n",
            "Requirement already satisfied: pyparsing!=3.0.0,!=3.0.1,!=3.0.2,!=3.0.3,<4,>=2.4.2 in /usr/local/lib/python3.10/dist-packages (from httplib2<1.dev0,>=0.19.0->google-api-python-client->google-generativeai) (3.1.4)\n",
            "Requirement already satisfied: pyasn1<0.7.0,>=0.4.6 in /usr/local/lib/python3.10/dist-packages (from pyasn1-modules>=0.2.1->google-auth>=2.15.0->google-generativeai) (0.6.0)\n",
            "Requirement already satisfied: charset-normalizer<4,>=2 in /usr/local/lib/python3.10/dist-packages (from requests<3.0.0.dev0,>=2.18.0->google-api-core->google-generativeai) (3.3.2)\n",
            "Requirement already satisfied: idna<4,>=2.5 in /usr/local/lib/python3.10/dist-packages (from requests<3.0.0.dev0,>=2.18.0->google-api-core->google-generativeai) (3.8)\n",
            "Requirement already satisfied: urllib3<3,>=1.21.1 in /usr/local/lib/python3.10/dist-packages (from requests<3.0.0.dev0,>=2.18.0->google-api-core->google-generativeai) (2.0.7)\n",
            "Requirement already satisfied: certifi>=2017.4.17 in /usr/local/lib/python3.10/dist-packages (from requests<3.0.0.dev0,>=2.18.0->google-api-core->google-generativeai) (2024.8.30)\n",
            "Requirement already satisfied: langchain in /usr/local/lib/python3.10/dist-packages (0.2.16)\n",
            "Requirement already satisfied: PyYAML>=5.3 in /usr/local/lib/python3.10/dist-packages (from langchain) (6.0.2)\n",
            "Requirement already satisfied: SQLAlchemy<3,>=1.4 in /usr/local/lib/python3.10/dist-packages (from langchain) (2.0.34)\n",
            "Requirement already satisfied: aiohttp<4.0.0,>=3.8.3 in /usr/local/lib/python3.10/dist-packages (from langchain) (3.10.5)\n",
            "Requirement already satisfied: async-timeout<5.0.0,>=4.0.0 in /usr/local/lib/python3.10/dist-packages (from langchain) (4.0.3)\n",
            "Requirement already satisfied: langchain-core<0.3.0,>=0.2.38 in /usr/local/lib/python3.10/dist-packages (from langchain) (0.2.39)\n",
            "Requirement already satisfied: langchain-text-splitters<0.3.0,>=0.2.0 in /usr/local/lib/python3.10/dist-packages (from langchain) (0.2.4)\n",
            "Requirement already satisfied: langsmith<0.2.0,>=0.1.17 in /usr/local/lib/python3.10/dist-packages (from langchain) (0.1.118)\n",
            "Requirement already satisfied: numpy<2,>=1 in /usr/local/lib/python3.10/dist-packages (from langchain) (1.26.4)\n",
            "Requirement already satisfied: pydantic<3,>=1 in /usr/local/lib/python3.10/dist-packages (from langchain) (2.9.1)\n",
            "Requirement already satisfied: requests<3,>=2 in /usr/local/lib/python3.10/dist-packages (from langchain) (2.32.3)\n",
            "Requirement already satisfied: tenacity!=8.4.0,<9.0.0,>=8.1.0 in /usr/local/lib/python3.10/dist-packages (from langchain) (8.5.0)\n",
            "Requirement already satisfied: aiohappyeyeballs>=2.3.0 in /usr/local/lib/python3.10/dist-packages (from aiohttp<4.0.0,>=3.8.3->langchain) (2.4.0)\n",
            "Requirement already satisfied: aiosignal>=1.1.2 in /usr/local/lib/python3.10/dist-packages (from aiohttp<4.0.0,>=3.8.3->langchain) (1.3.1)\n",
            "Requirement already satisfied: attrs>=17.3.0 in /usr/local/lib/python3.10/dist-packages (from aiohttp<4.0.0,>=3.8.3->langchain) (24.2.0)\n",
            "Requirement already satisfied: frozenlist>=1.1.1 in /usr/local/lib/python3.10/dist-packages (from aiohttp<4.0.0,>=3.8.3->langchain) (1.4.1)\n",
            "Requirement already satisfied: multidict<7.0,>=4.5 in /usr/local/lib/python3.10/dist-packages (from aiohttp<4.0.0,>=3.8.3->langchain) (6.1.0)\n",
            "Requirement already satisfied: yarl<2.0,>=1.0 in /usr/local/lib/python3.10/dist-packages (from aiohttp<4.0.0,>=3.8.3->langchain) (1.11.1)\n",
            "Requirement already satisfied: jsonpatch<2.0,>=1.33 in /usr/local/lib/python3.10/dist-packages (from langchain-core<0.3.0,>=0.2.38->langchain) (1.33)\n",
            "Requirement already satisfied: packaging<25,>=23.2 in /usr/local/lib/python3.10/dist-packages (from langchain-core<0.3.0,>=0.2.38->langchain) (24.1)\n",
            "Requirement already satisfied: typing-extensions>=4.7 in /usr/local/lib/python3.10/dist-packages (from langchain-core<0.3.0,>=0.2.38->langchain) (4.12.2)\n",
            "Requirement already satisfied: httpx<1,>=0.23.0 in /usr/local/lib/python3.10/dist-packages (from langsmith<0.2.0,>=0.1.17->langchain) (0.27.2)\n",
            "Requirement already satisfied: orjson<4.0.0,>=3.9.14 in /usr/local/lib/python3.10/dist-packages (from langsmith<0.2.0,>=0.1.17->langchain) (3.10.7)\n",
            "Requirement already satisfied: annotated-types>=0.6.0 in /usr/local/lib/python3.10/dist-packages (from pydantic<3,>=1->langchain) (0.7.0)\n",
            "Requirement already satisfied: pydantic-core==2.23.3 in /usr/local/lib/python3.10/dist-packages (from pydantic<3,>=1->langchain) (2.23.3)\n",
            "Requirement already satisfied: charset-normalizer<4,>=2 in /usr/local/lib/python3.10/dist-packages (from requests<3,>=2->langchain) (3.3.2)\n",
            "Requirement already satisfied: idna<4,>=2.5 in /usr/local/lib/python3.10/dist-packages (from requests<3,>=2->langchain) (3.8)\n",
            "Requirement already satisfied: urllib3<3,>=1.21.1 in /usr/local/lib/python3.10/dist-packages (from requests<3,>=2->langchain) (2.0.7)\n",
            "Requirement already satisfied: certifi>=2017.4.17 in /usr/local/lib/python3.10/dist-packages (from requests<3,>=2->langchain) (2024.8.30)\n",
            "Requirement already satisfied: greenlet!=0.4.17 in /usr/local/lib/python3.10/dist-packages (from SQLAlchemy<3,>=1.4->langchain) (3.1.0)\n",
            "Requirement already satisfied: anyio in /usr/local/lib/python3.10/dist-packages (from httpx<1,>=0.23.0->langsmith<0.2.0,>=0.1.17->langchain) (3.7.1)\n",
            "Requirement already satisfied: httpcore==1.* in /usr/local/lib/python3.10/dist-packages (from httpx<1,>=0.23.0->langsmith<0.2.0,>=0.1.17->langchain) (1.0.5)\n",
            "Requirement already satisfied: sniffio in /usr/local/lib/python3.10/dist-packages (from httpx<1,>=0.23.0->langsmith<0.2.0,>=0.1.17->langchain) (1.3.1)\n",
            "Requirement already satisfied: h11<0.15,>=0.13 in /usr/local/lib/python3.10/dist-packages (from httpcore==1.*->httpx<1,>=0.23.0->langsmith<0.2.0,>=0.1.17->langchain) (0.14.0)\n",
            "Requirement already satisfied: jsonpointer>=1.9 in /usr/local/lib/python3.10/dist-packages (from jsonpatch<2.0,>=1.33->langchain-core<0.3.0,>=0.2.38->langchain) (3.0.0)\n",
            "Requirement already satisfied: exceptiongroup in /usr/local/lib/python3.10/dist-packages (from anyio->httpx<1,>=0.23.0->langsmith<0.2.0,>=0.1.17->langchain) (1.2.2)\n"
          ]
        }
      ]
    },
    {
      "source": [
        "# Import the 'os' module, which provides functions for interacting with the operating system\n",
        "import os\n",
        "\n",
        "# Import the 'generativeai' library from Google's Generative AI SDK\n",
        "import google.generativeai as genai\n",
        "\n",
        "# Configure the Generative AI API by providing the API key for authentication\n",
        "genai.configure(api_key=\"API_Key\")\n",
        "\n",
        "# Create a configuration for the model generation\n",
        "generation_config = {\n",
        "  # The temperature controls the randomness of the output.\n",
        "  # A higher value (like 1) results in more random responses.\n",
        "  \"temperature\": 1,\n",
        "\n",
        "  # top_p controls nucleus sampling, where the model considers only the most probable tokens\n",
        "  # whose probabilities add up to top_p. A higher value includes more diverse tokens.\n",
        "  \"top_p\": 0.95,\n",
        "\n",
        "  # top_k specifies the number of highest probability tokens to be considered for sampling.\n",
        "  # A value of 64 means the model will consider the top 64 tokens at each generation step.\n",
        "  \"top_k\": 64,\n",
        "\n",
        "  # max_output_tokens defines the maximum number of tokens the model can generate.\n",
        "  # Setting it to 8192 allows for long responses.\n",
        "  \"max_output_tokens\": 8192,\n",
        "\n",
        "  # The MIME type for the response. In this case, we're requesting a plain text response.\n",
        "  \"response_mime_type\": \"text/plain\",\n",
        "}\n",
        "\n",
        "# Create an instance of the generative model using the specified model name and configuration\n",
        "model = genai.GenerativeModel(\n",
        "  model_name=\"gemini-1.5-flash\",  # The specific model version being used\n",
        "  generation_config=generation_config,  # The generation configuration defined above\n",
        ")\n"
      ],
      "cell_type": "code",
      "metadata": {
        "id": "Gf_6Xmq1hoi4"
      },
      "execution_count": 65,
      "outputs": []
    },
    {
      "cell_type": "markdown",
      "source": [
        "# Output Parser\n",
        "\n",
        "\n",
        "1. Getting **Structered info** than simple text\n",
        "2. Classes\n",
        "3. Parse : method taking as string(response from an LLM) & parse it into some structures\n",
        "\n",
        "    ## Two Methods (output from str -> json)\n",
        "\n",
        "1.  Pydantic --  fastest data validation\n",
        "2.  ResponseSchema and StructeredOutputParser from Langchain\n",
        "\n",
        "\n",
        "\n"
      ],
      "metadata": {
        "id": "zF53G24txW8K"
      }
    },
    {
      "source": [
        "# Import the PydanticOutputParser from the LangChain Core module\n",
        "# This parser is used to validate and parse model outputs based on Pydantic models\n",
        "from langchain_core.output_parsers import PydanticOutputParser\n",
        "\n",
        "# Importing required components from Pydantic for model validation\n",
        "# BaseModel is the foundational class for creating Pydantic models, Field allows setting field attributes and descriptions, and validator enables validation logic for fields\n",
        "from langchain_core.pydantic_v1 import BaseModel, Field, validator\n",
        "\n",
        "# Creating a Pydantic class to define the structure of the expected output\n",
        "class Person(BaseModel):  # Defines a Pydantic model named 'Person' to model data with specific fields\n",
        "    # Defines a string field 'name' with a description for better clarity\n",
        "    name: str = Field(description=\"The person's name\")\n",
        "\n",
        "    # Defines an integer field 'age' with a description\n",
        "    age: int = Field(description=\"The person's age\")\n",
        "\n",
        "    # Defines a field 'zip_code' that can either be a string or None (optional)\n",
        "    # The \"|\" symbol signifies a union type (str | None), allowing it to hold one of two types\n",
        "    zip_code: str | None = Field(description=\"Zip/postal code\")\n",
        "\n",
        "    # Defines a required string field 'country'\n",
        "    country: str  # This field does not have an explicit description, but it is required.\n",
        "\n",
        "# Creates an instance of PydanticOutputParser with the 'Person' Pydantic model\n",
        "# This parser will validate and parse the output to match the 'Person' schema\n",
        "json_parser = PydanticOutputParser(pydantic_object=Person)\n",
        "\n"
      ],
      "cell_type": "code",
      "metadata": {
        "id": "nT5L0QOzX44Q"
      },
      "execution_count": 59,
      "outputs": []
    },
    {
      "cell_type": "markdown",
      "source": [
        "# Prompt Templates"
      ],
      "metadata": {
        "id": "HBK45ztYpQXO"
      }
    },
    {
      "cell_type": "code",
      "source": [
        "# Import the PromptTemplate class from LangChain Core's prompts module\n",
        "# PromptTemplate helps manage and format prompts for large language models (LLMs)\n",
        "from langchain_core.prompts import PromptTemplate\n",
        "\n",
        "# Define a prompt template with placeholders for dynamic content insertion\n",
        "# The {topic} and {format_instructions} placeholders will be replaced by values when the template is formatted\n",
        "template = \"\"\"\n",
        "Answer the following questions about {topic} with the format:\n",
        "\n",
        "{format_instructions}\n",
        "\n",
        "\"\"\"\n",
        "\n",
        "# Create an instance of PromptTemplate\n",
        "prompt_template = PromptTemplate(\n",
        "    # The input_variables defines the list of dynamic variables that will be replaced in the template.\n",
        "    # Here, \"topic\" is the variable that will be dynamically inserted into the prompt.\n",
        "    input_variables=[\"topic\"],\n",
        "\n",
        "    # Pass the prompt template defined above\n",
        "    template=template,\n",
        "\n",
        "    # partial_variables allows you to specify static values for some variables.\n",
        "    # \"format_instructions\" is provided with a static value using json_parser's format instructions.\n",
        "    partial_variables={\"format_instructions\": json_parser.get_format_instructions()}\n",
        ")\n",
        "\n",
        "# Example usage of the prompt template with a specific topic\n",
        "# Format the template by providing a value for the \"topic\" variable\n",
        "prompt = prompt_template.format(topic=\"human\")\n",
        "\n",
        "# Print the formatted prompt to see how it looks\n",
        "print(prompt)\n"
      ],
      "metadata": {
        "colab": {
          "base_uri": "https://localhost:8080/"
        },
        "collapsed": true,
        "id": "xUswswGHaQj7",
        "outputId": "054e8c0f-b34d-4a96-d8ab-9408081996d7"
      },
      "execution_count": 60,
      "outputs": [
        {
          "output_type": "stream",
          "name": "stdout",
          "text": [
            "\n",
            "Answer the following questions about human with the format:\n",
            "\n",
            "The output should be formatted as a JSON instance that conforms to the JSON schema below.\n",
            "\n",
            "As an example, for the schema {\"properties\": {\"foo\": {\"title\": \"Foo\", \"description\": \"a list of strings\", \"type\": \"array\", \"items\": {\"type\": \"string\"}}}, \"required\": [\"foo\"]}\n",
            "the object {\"foo\": [\"bar\", \"baz\"]} is a well-formatted instance of the schema. The object {\"properties\": {\"foo\": [\"bar\", \"baz\"]}} is not well-formatted.\n",
            "\n",
            "Here is the output schema:\n",
            "```\n",
            "{\"properties\": {\"name\": {\"title\": \"Name\", \"description\": \"The person's name\", \"type\": \"string\"}, \"age\": {\"title\": \"Age\", \"description\": \"The person's age\", \"type\": \"integer\"}, \"zip_code\": {\"title\": \"Zip Code\", \"description\": \"Zip/postal code\", \"type\": \"string\"}, \"country\": {\"title\": \"Country\", \"type\": \"string\"}}, \"required\": [\"name\", \"age\", \"country\"]}\n",
            "```\n",
            "\n",
            "\n"
          ]
        }
      ]
    },
    {
      "cell_type": "markdown",
      "source": [
        "# Parsing into Json Output"
      ],
      "metadata": {
        "id": "k41YKbgDrZ3e"
      }
    },
    {
      "cell_type": "code",
      "source": [
        "# Generate content using the model by passing in the formatted prompt\n",
        "response = model.generate_content(prompt)\n",
        "\n",
        "# Print the response text generated by the model\n",
        "print(response.text)\n",
        "\n",
        "# The 'response.text' is expected to be a string, and the type can be verified by uncommenting the next line\n",
        "# print(type(response.text))  # This would print <class 'str'>\n",
        "\n",
        "# The response text can be parsed into a dictionary or Pydantic model using the json_parser's parse method.\n",
        "# This converts the text response into a structured format defined by the Pydantic model (Person in this case).\n",
        "output_dict = json_parser.parse(response.text)\n",
        "\n",
        "# Print the parsed output as a Python dictionary or Pydantic model object.\n",
        "# This object will contain the values extracted from the response text based on the Person schema.\n",
        "print(output_dict)\n",
        "\n",
        "# Print the type of output_dict to verify that it's now a structured object (e.g., a Pydantic model).\n",
        "print(type(output_dict))  # Expected type: <class 'Person'> or <class 'dict'>"
      ],
      "metadata": {
        "colab": {
          "base_uri": "https://localhost:8080/",
          "height": 199
        },
        "id": "ao0X0etDeIQN",
        "outputId": "d2f4301f-f609-431f-b851-bcb23112aa89"
      },
      "execution_count": 61,
      "outputs": [
        {
          "output_type": "stream",
          "name": "stdout",
          "text": [
            "```json\n",
            "{\n",
            "\"name\": \"John Doe\",\n",
            "\"age\": 30,\n",
            "\"zip_code\": \"12345\",\n",
            "\"country\": \"USA\"\n",
            "}\n",
            "```\n",
            "name='John Doe' age=30 zip_code='12345' country='USA'\n",
            "<class '__main__.Person'>\n"
          ]
        }
      ]
    },
    {
      "cell_type": "code",
      "source": [],
      "metadata": {
        "id": "9_p23AIOrwCp"
      },
      "execution_count": null,
      "outputs": []
    }
  ]
}