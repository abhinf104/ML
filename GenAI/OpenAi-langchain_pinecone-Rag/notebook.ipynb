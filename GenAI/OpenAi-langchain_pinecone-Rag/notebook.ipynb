{
 "cells": [
  {
   "cell_type": "markdown",
   "id": "8c8fde4c-9222-4265-b72b-8d7693520250",
   "metadata": {},
   "source": [
    "# Using Retrieval-Augmented Generation to Search a Movie Database\n"
   ]
  },
  {
   "cell_type": "markdown",
   "id": "3e302e1c-4c18-4c44-87fd-ba935c3a0853",
   "metadata": {},
   "source": [
    "Retrieval-augmented generation, or _RAG_, is a technique used with large language models to provide additional context without fine-tuning or retraining. It enhances the ability of language models to provide factual responses, which is a limitation of classical setups.\n",
    "\n",
    "The goal of this project is to build a question-answering bot for movie-related questions. To achieve this, we will use RAG to provide factual information to the language model. We will upload movie descriptions to a vector database and use it to search for relevant context for the language model.\n",
    "\n",
    "We will be using the following tools and models:\n",
    "\n",
    "- [OpenAI](https://openai.com)'s `gpt-3.5-turbo` model for prompt completions\n",
    "- OpenAI's `text-embedding-ada-002` model to create vector embeddings\n",
    "- [Pinecone](https://www.pinecone.io/) as the vector database to store the embeddings\n",
    "- [langchain](https://www.langchain.com/) as the tool to interact with OpenAI and Pinecone\n",
    "\n",
    "The dataset used for this project is sourced from the Kaggle dataset [IMDb Movies/Shows with Descriptions](https://www.kaggle.com/datasets/ishikajohari/imdb-data-with-descriptions).\n"
   ]
  },
  {
   "cell_type": "markdown",
   "id": "001d0007-f6f4-4b75-bd68-db25b5d0b441",
   "metadata": {},
   "source": [
    "### Maintenance note, May 2024\n",
    "\n",
    "Since this code-along was released, the Python packages for working with the Pinecone and OpenAI APIs have changed their syntax. The instructions, hints, and code have been updated to use the latest syntax, but the video has not been updated. Consequently, it is now slightly out of sync. Trust the workbook, not the video.\n"
   ]
  },
  {
   "cell_type": "markdown",
   "id": "8231d2c6-275e-4399-b7cd-84e112831d08",
   "metadata": {},
   "source": [
    "## Before you begin\n"
   ]
  },
  {
   "cell_type": "markdown",
   "id": "785d7fac-edb2-482f-be2b-c63dc2882103",
   "metadata": {},
   "source": [
    "To get started with this project, you'll need a developer account for OpenAI and Pinecone. Follow the steps in the [getting-started.ipynb](https://app.datacamp.com/workspace/w/f1d996aa-0aaa-47e3-bd61-2b5b5a0fa558/edit/getting-started.ipynb) notebook to create an API key and store it in Workspace.\n",
    "\n",
    "For this project, we will assume that you have already set the `OPENAI_API_KEY` and `PINECONE_API_KEY` environment variables.\n"
   ]
  },
  {
   "cell_type": "markdown",
   "id": "a9274661-8d8c-4cc5-901e-5fc497866b89",
   "metadata": {},
   "source": [
    "## Task 0: Setup\n"
   ]
  },
  {
   "cell_type": "markdown",
   "id": "2cf847fd-f8f8-49f6-9b43-0eb098239072",
   "metadata": {},
   "source": [
    "To perform this analysis, we need to install the following packages:\n",
    "\n",
    "- `openai`: for interacting with OpenAI.\n",
    "- `pinecone-client`: for interacting with Pinecone.\n",
    "- `langchain`: a framework for developing with generative AI.\n",
    "- `langchain-openai` and `langchain-pinecone`: Langchain extension modules with functionality for OpenAI and Pinecone.\n",
    "- `tiktoken`: a string encoder that generates tokens used by OpenAI. It is useful for estimating the number of tokens used.\n"
   ]
  },
  {
   "cell_type": "code",
   "execution_count": 1,
   "id": "35e1b421-d851-4565-b99d-65aae41c9520",
   "metadata": {
    "executionCancelledAt": null,
    "executionTime": 23604,
    "lastExecutedAt": 1733725165483,
    "lastExecutedByKernel": "be3255dc-5997-467c-a88c-56e75a28b856",
    "lastScheduledRunId": null,
    "lastSuccessfullyExecutedCode": "# Install the openai package, locked to version 1.27\n!pip install openai==1.27\n\n# Install the pinecone-client package, locked to version 4.0.0\n!pip install pinecone-client==4.0.0\n\n# Install the langchain package, locked to version 0.1.19\n!pip install langchain==0.1.19\n\n# Install the langchain-openai package, locked to version 0.1.6\n!pip install langchain-openai==0.1.6\n\n# Update the langchain-pinecone package, locked to version 0.1.0\n!pip install langchain-pinecone==0.1.0\n\n# Update the tiktoken package, locked to version 0.7.0\n!pip install tiktoken==0.7.0\n\n# Update the typing_extensions package, locked to version 4.11.0\n!pip install typing_extensions==4.11.0",
    "outputsMetadata": {
     "0": {
      "height": 574,
      "type": "stream"
     }
    }
   },
   "outputs": [
    {
     "name": "stdout",
     "output_type": "stream",
     "text": [
      "Defaulting to user installation because normal site-packages is not writeable\n",
      "Collecting openai==1.27\n",
      "  Downloading openai-1.27.0-py3-none-any.whl.metadata (21 kB)\n",
      "Requirement already satisfied: anyio<5,>=3.5.0 in /usr/local/lib/python3.10/dist-packages (from openai==1.27) (4.3.0)\n",
      "Requirement already satisfied: distro<2,>=1.7.0 in /usr/lib/python3/dist-packages (from openai==1.27) (1.7.0)\n",
      "Requirement already satisfied: httpx<1,>=0.23.0 in /usr/local/lib/python3.10/dist-packages (from openai==1.27) (0.27.0)\n",
      "Requirement already satisfied: pydantic<3,>=1.9.0 in /usr/local/lib/python3.10/dist-packages (from openai==1.27) (2.7.1)\n",
      "Requirement already satisfied: sniffio in /usr/local/lib/python3.10/dist-packages (from openai==1.27) (1.3.1)\n",
      "Requirement already satisfied: tqdm>4 in /usr/local/lib/python3.10/dist-packages (from openai==1.27) (4.66.4)\n",
      "Requirement already satisfied: typing-extensions<5,>=4.7 in /usr/local/lib/python3.10/dist-packages (from openai==1.27) (4.11.0)\n",
      "Requirement already satisfied: idna>=2.8 in /usr/local/lib/python3.10/dist-packages (from anyio<5,>=3.5.0->openai==1.27) (3.7)\n",
      "Requirement already satisfied: exceptiongroup>=1.0.2 in /usr/local/lib/python3.10/dist-packages (from anyio<5,>=3.5.0->openai==1.27) (1.2.1)\n",
      "Requirement already satisfied: certifi in /usr/local/lib/python3.10/dist-packages (from httpx<1,>=0.23.0->openai==1.27) (2024.2.2)\n",
      "Requirement already satisfied: httpcore==1.* in /usr/local/lib/python3.10/dist-packages (from httpx<1,>=0.23.0->openai==1.27) (1.0.5)\n",
      "Requirement already satisfied: h11<0.15,>=0.13 in /usr/local/lib/python3.10/dist-packages (from httpcore==1.*->httpx<1,>=0.23.0->openai==1.27) (0.14.0)\n",
      "Requirement already satisfied: annotated-types>=0.4.0 in /usr/local/lib/python3.10/dist-packages (from pydantic<3,>=1.9.0->openai==1.27) (0.6.0)\n",
      "Requirement already satisfied: pydantic-core==2.18.2 in /usr/local/lib/python3.10/dist-packages (from pydantic<3,>=1.9.0->openai==1.27) (2.18.2)\n",
      "Downloading openai-1.27.0-py3-none-any.whl (314 kB)\n",
      "Installing collected packages: openai\n",
      "\u001b[33m  WARNING: The script openai is installed in '/home/repl/.local/bin' which is not on PATH.\n",
      "  Consider adding this directory to PATH or, if you prefer to suppress this warning, use --no-warn-script-location.\u001b[0m\u001b[33m\n",
      "\u001b[0mSuccessfully installed openai-1.27.0\n",
      "\n",
      "\u001b[1m[\u001b[0m\u001b[34;49mnotice\u001b[0m\u001b[1;39;49m]\u001b[0m\u001b[39;49m A new release of pip is available: \u001b[0m\u001b[31;49m24.2\u001b[0m\u001b[39;49m -> \u001b[0m\u001b[32;49m24.3.1\u001b[0m\n",
      "\u001b[1m[\u001b[0m\u001b[34;49mnotice\u001b[0m\u001b[1;39;49m]\u001b[0m\u001b[39;49m To update, run: \u001b[0m\u001b[32;49mpython3 -m pip install --upgrade pip\u001b[0m\n",
      "Defaulting to user installation because normal site-packages is not writeable\n",
      "Collecting pinecone-client==4.0.0\n",
      "  Downloading pinecone_client-4.0.0-py3-none-any.whl.metadata (16 kB)\n",
      "Requirement already satisfied: certifi>=2019.11.17 in /usr/local/lib/python3.10/dist-packages (from pinecone-client==4.0.0) (2024.2.2)\n",
      "Requirement already satisfied: tqdm>=4.64.1 in /usr/local/lib/python3.10/dist-packages (from pinecone-client==4.0.0) (4.66.4)\n",
      "Requirement already satisfied: typing-extensions>=3.7.4 in /usr/local/lib/python3.10/dist-packages (from pinecone-client==4.0.0) (4.11.0)\n",
      "Requirement already satisfied: urllib3>=1.26.0 in /usr/local/lib/python3.10/dist-packages (from pinecone-client==4.0.0) (1.26.18)\n",
      "Downloading pinecone_client-4.0.0-py3-none-any.whl (214 kB)\n",
      "Installing collected packages: pinecone-client\n",
      "Successfully installed pinecone-client-4.0.0\n",
      "\n",
      "\u001b[1m[\u001b[0m\u001b[34;49mnotice\u001b[0m\u001b[1;39;49m]\u001b[0m\u001b[39;49m A new release of pip is available: \u001b[0m\u001b[31;49m24.2\u001b[0m\u001b[39;49m -> \u001b[0m\u001b[32;49m24.3.1\u001b[0m\n",
      "\u001b[1m[\u001b[0m\u001b[34;49mnotice\u001b[0m\u001b[1;39;49m]\u001b[0m\u001b[39;49m To update, run: \u001b[0m\u001b[32;49mpython3 -m pip install --upgrade pip\u001b[0m\n",
      "Defaulting to user installation because normal site-packages is not writeable\n",
      "Collecting langchain==0.1.19\n",
      "  Downloading langchain-0.1.19-py3-none-any.whl.metadata (13 kB)\n",
      "Requirement already satisfied: PyYAML>=5.3 in /usr/local/lib/python3.10/dist-packages (from langchain==0.1.19) (6.0.1)\n",
      "Requirement already satisfied: SQLAlchemy<3,>=1.4 in /usr/local/lib/python3.10/dist-packages (from langchain==0.1.19) (2.0.30)\n",
      "Requirement already satisfied: aiohttp<4.0.0,>=3.8.3 in /usr/local/lib/python3.10/dist-packages (from langchain==0.1.19) (3.9.5)\n",
      "Requirement already satisfied: async-timeout<5.0.0,>=4.0.0 in /usr/local/lib/python3.10/dist-packages (from langchain==0.1.19) (4.0.3)\n",
      "Requirement already satisfied: dataclasses-json<0.7,>=0.5.7 in /usr/local/lib/python3.10/dist-packages (from langchain==0.1.19) (0.6.7)\n",
      "Requirement already satisfied: langchain-community<0.1,>=0.0.38 in /usr/local/lib/python3.10/dist-packages (from langchain==0.1.19) (0.0.38)\n",
      "Requirement already satisfied: langchain-core<0.2.0,>=0.1.52 in /usr/local/lib/python3.10/dist-packages (from langchain==0.1.19) (0.1.52)\n",
      "Requirement already satisfied: langchain-text-splitters<0.1,>=0.0.1 in /usr/local/lib/python3.10/dist-packages (from langchain==0.1.19) (0.0.2)\n",
      "Requirement already satisfied: langsmith<0.2.0,>=0.1.17 in /usr/local/lib/python3.10/dist-packages (from langchain==0.1.19) (0.1.79)\n",
      "Requirement already satisfied: numpy<2,>=1 in /usr/local/lib/python3.10/dist-packages (from langchain==0.1.19) (1.26.4)\n",
      "Requirement already satisfied: pydantic<3,>=1 in /usr/local/lib/python3.10/dist-packages (from langchain==0.1.19) (2.7.1)\n",
      "Requirement already satisfied: requests<3,>=2 in /usr/local/lib/python3.10/dist-packages (from langchain==0.1.19) (2.31.0)\n",
      "Requirement already satisfied: tenacity<9.0.0,>=8.1.0 in /usr/local/lib/python3.10/dist-packages (from langchain==0.1.19) (8.3.0)\n",
      "Requirement already satisfied: aiosignal>=1.1.2 in /usr/local/lib/python3.10/dist-packages (from aiohttp<4.0.0,>=3.8.3->langchain==0.1.19) (1.3.1)\n",
      "Requirement already satisfied: attrs>=17.3.0 in /usr/local/lib/python3.10/dist-packages (from aiohttp<4.0.0,>=3.8.3->langchain==0.1.19) (23.2.0)\n",
      "Requirement already satisfied: frozenlist>=1.1.1 in /usr/local/lib/python3.10/dist-packages (from aiohttp<4.0.0,>=3.8.3->langchain==0.1.19) (1.4.1)\n",
      "Requirement already satisfied: multidict<7.0,>=4.5 in /usr/local/lib/python3.10/dist-packages (from aiohttp<4.0.0,>=3.8.3->langchain==0.1.19) (6.0.5)\n",
      "Requirement already satisfied: yarl<2.0,>=1.0 in /usr/local/lib/python3.10/dist-packages (from aiohttp<4.0.0,>=3.8.3->langchain==0.1.19) (1.9.4)\n",
      "Requirement already satisfied: marshmallow<4.0.0,>=3.18.0 in /usr/local/lib/python3.10/dist-packages (from dataclasses-json<0.7,>=0.5.7->langchain==0.1.19) (3.21.3)\n",
      "Requirement already satisfied: typing-inspect<1,>=0.4.0 in /usr/local/lib/python3.10/dist-packages (from dataclasses-json<0.7,>=0.5.7->langchain==0.1.19) (0.9.0)\n",
      "Requirement already satisfied: jsonpatch<2.0,>=1.33 in /usr/local/lib/python3.10/dist-packages (from langchain-core<0.2.0,>=0.1.52->langchain==0.1.19) (1.33)\n",
      "Requirement already satisfied: packaging<24.0,>=23.2 in /usr/local/lib/python3.10/dist-packages (from langchain-core<0.2.0,>=0.1.52->langchain==0.1.19) (23.2)\n",
      "Requirement already satisfied: orjson<4.0.0,>=3.9.14 in /usr/local/lib/python3.10/dist-packages (from langsmith<0.2.0,>=0.1.17->langchain==0.1.19) (3.10.5)\n",
      "Requirement already satisfied: annotated-types>=0.4.0 in /usr/local/lib/python3.10/dist-packages (from pydantic<3,>=1->langchain==0.1.19) (0.6.0)\n",
      "Requirement already satisfied: pydantic-core==2.18.2 in /usr/local/lib/python3.10/dist-packages (from pydantic<3,>=1->langchain==0.1.19) (2.18.2)\n",
      "Requirement already satisfied: typing-extensions>=4.6.1 in /usr/local/lib/python3.10/dist-packages (from pydantic<3,>=1->langchain==0.1.19) (4.11.0)\n",
      "Requirement already satisfied: charset-normalizer<4,>=2 in /usr/local/lib/python3.10/dist-packages (from requests<3,>=2->langchain==0.1.19) (3.3.2)\n",
      "Requirement already satisfied: idna<4,>=2.5 in /usr/local/lib/python3.10/dist-packages (from requests<3,>=2->langchain==0.1.19) (3.7)\n",
      "Requirement already satisfied: urllib3<3,>=1.21.1 in /usr/local/lib/python3.10/dist-packages (from requests<3,>=2->langchain==0.1.19) (1.26.18)\n",
      "Requirement already satisfied: certifi>=2017.4.17 in /usr/local/lib/python3.10/dist-packages (from requests<3,>=2->langchain==0.1.19) (2024.2.2)\n",
      "Requirement already satisfied: greenlet!=0.4.17 in /usr/local/lib/python3.10/dist-packages (from SQLAlchemy<3,>=1.4->langchain==0.1.19) (3.0.3)\n",
      "Requirement already satisfied: jsonpointer>=1.9 in /usr/local/lib/python3.10/dist-packages (from jsonpatch<2.0,>=1.33->langchain-core<0.2.0,>=0.1.52->langchain==0.1.19) (2.4)\n",
      "Requirement already satisfied: mypy-extensions>=0.3.0 in /usr/local/lib/python3.10/dist-packages (from typing-inspect<1,>=0.4.0->dataclasses-json<0.7,>=0.5.7->langchain==0.1.19) (1.0.0)\n",
      "Downloading langchain-0.1.19-py3-none-any.whl (1.0 MB)\n",
      "\u001b[2K   \u001b[90m━━━━━━━━━━━━━━━━━━━━━━━━━━━━━━━━━━━━━━━━\u001b[0m \u001b[32m1.0/1.0 MB\u001b[0m \u001b[31m60.1 MB/s\u001b[0m eta \u001b[36m0:00:00\u001b[0m\n",
      "\u001b[?25hInstalling collected packages: langchain\n",
      "\u001b[33m  WARNING: The script langchain-server is installed in '/home/repl/.local/bin' which is not on PATH.\n",
      "  Consider adding this directory to PATH or, if you prefer to suppress this warning, use --no-warn-script-location.\u001b[0m\u001b[33m\n",
      "\u001b[0mSuccessfully installed langchain-0.1.19\n",
      "\n",
      "\u001b[1m[\u001b[0m\u001b[34;49mnotice\u001b[0m\u001b[1;39;49m]\u001b[0m\u001b[39;49m A new release of pip is available: \u001b[0m\u001b[31;49m24.2\u001b[0m\u001b[39;49m -> \u001b[0m\u001b[32;49m24.3.1\u001b[0m\n",
      "\u001b[1m[\u001b[0m\u001b[34;49mnotice\u001b[0m\u001b[1;39;49m]\u001b[0m\u001b[39;49m To update, run: \u001b[0m\u001b[32;49mpython3 -m pip install --upgrade pip\u001b[0m\n",
      "Defaulting to user installation because normal site-packages is not writeable\n",
      "Collecting langchain-openai==0.1.6\n",
      "  Downloading langchain_openai-0.1.6-py3-none-any.whl.metadata (2.5 kB)\n",
      "Requirement already satisfied: langchain-core<0.2.0,>=0.1.46 in /usr/local/lib/python3.10/dist-packages (from langchain-openai==0.1.6) (0.1.52)\n",
      "Requirement already satisfied: openai<2.0.0,>=1.24.0 in /home/repl/.local/lib/python3.10/site-packages (from langchain-openai==0.1.6) (1.27.0)\n",
      "Requirement already satisfied: tiktoken<1,>=0.5.2 in /usr/local/lib/python3.10/dist-packages (from langchain-openai==0.1.6) (0.7.0)\n",
      "Requirement already satisfied: PyYAML>=5.3 in /usr/local/lib/python3.10/dist-packages (from langchain-core<0.2.0,>=0.1.46->langchain-openai==0.1.6) (6.0.1)\n",
      "Requirement already satisfied: jsonpatch<2.0,>=1.33 in /usr/local/lib/python3.10/dist-packages (from langchain-core<0.2.0,>=0.1.46->langchain-openai==0.1.6) (1.33)\n",
      "Requirement already satisfied: langsmith<0.2.0,>=0.1.0 in /usr/local/lib/python3.10/dist-packages (from langchain-core<0.2.0,>=0.1.46->langchain-openai==0.1.6) (0.1.79)\n",
      "Requirement already satisfied: packaging<24.0,>=23.2 in /usr/local/lib/python3.10/dist-packages (from langchain-core<0.2.0,>=0.1.46->langchain-openai==0.1.6) (23.2)\n",
      "Requirement already satisfied: pydantic<3,>=1 in /usr/local/lib/python3.10/dist-packages (from langchain-core<0.2.0,>=0.1.46->langchain-openai==0.1.6) (2.7.1)\n",
      "Requirement already satisfied: tenacity<9.0.0,>=8.1.0 in /usr/local/lib/python3.10/dist-packages (from langchain-core<0.2.0,>=0.1.46->langchain-openai==0.1.6) (8.3.0)\n",
      "Requirement already satisfied: anyio<5,>=3.5.0 in /usr/local/lib/python3.10/dist-packages (from openai<2.0.0,>=1.24.0->langchain-openai==0.1.6) (4.3.0)\n",
      "Requirement already satisfied: distro<2,>=1.7.0 in /usr/lib/python3/dist-packages (from openai<2.0.0,>=1.24.0->langchain-openai==0.1.6) (1.7.0)\n",
      "Requirement already satisfied: httpx<1,>=0.23.0 in /usr/local/lib/python3.10/dist-packages (from openai<2.0.0,>=1.24.0->langchain-openai==0.1.6) (0.27.0)\n",
      "Requirement already satisfied: sniffio in /usr/local/lib/python3.10/dist-packages (from openai<2.0.0,>=1.24.0->langchain-openai==0.1.6) (1.3.1)\n",
      "Requirement already satisfied: tqdm>4 in /usr/local/lib/python3.10/dist-packages (from openai<2.0.0,>=1.24.0->langchain-openai==0.1.6) (4.66.4)\n",
      "Requirement already satisfied: typing-extensions<5,>=4.7 in /usr/local/lib/python3.10/dist-packages (from openai<2.0.0,>=1.24.0->langchain-openai==0.1.6) (4.11.0)\n",
      "Requirement already satisfied: regex>=2022.1.18 in /usr/local/lib/python3.10/dist-packages (from tiktoken<1,>=0.5.2->langchain-openai==0.1.6) (2023.12.25)\n",
      "Requirement already satisfied: requests>=2.26.0 in /usr/local/lib/python3.10/dist-packages (from tiktoken<1,>=0.5.2->langchain-openai==0.1.6) (2.31.0)\n",
      "Requirement already satisfied: idna>=2.8 in /usr/local/lib/python3.10/dist-packages (from anyio<5,>=3.5.0->openai<2.0.0,>=1.24.0->langchain-openai==0.1.6) (3.7)\n",
      "Requirement already satisfied: exceptiongroup>=1.0.2 in /usr/local/lib/python3.10/dist-packages (from anyio<5,>=3.5.0->openai<2.0.0,>=1.24.0->langchain-openai==0.1.6) (1.2.1)\n",
      "Requirement already satisfied: certifi in /usr/local/lib/python3.10/dist-packages (from httpx<1,>=0.23.0->openai<2.0.0,>=1.24.0->langchain-openai==0.1.6) (2024.2.2)\n",
      "Requirement already satisfied: httpcore==1.* in /usr/local/lib/python3.10/dist-packages (from httpx<1,>=0.23.0->openai<2.0.0,>=1.24.0->langchain-openai==0.1.6) (1.0.5)\n",
      "Requirement already satisfied: h11<0.15,>=0.13 in /usr/local/lib/python3.10/dist-packages (from httpcore==1.*->httpx<1,>=0.23.0->openai<2.0.0,>=1.24.0->langchain-openai==0.1.6) (0.14.0)\n",
      "Requirement already satisfied: jsonpointer>=1.9 in /usr/local/lib/python3.10/dist-packages (from jsonpatch<2.0,>=1.33->langchain-core<0.2.0,>=0.1.46->langchain-openai==0.1.6) (2.4)\n",
      "Requirement already satisfied: orjson<4.0.0,>=3.9.14 in /usr/local/lib/python3.10/dist-packages (from langsmith<0.2.0,>=0.1.0->langchain-core<0.2.0,>=0.1.46->langchain-openai==0.1.6) (3.10.5)\n",
      "Requirement already satisfied: annotated-types>=0.4.0 in /usr/local/lib/python3.10/dist-packages (from pydantic<3,>=1->langchain-core<0.2.0,>=0.1.46->langchain-openai==0.1.6) (0.6.0)\n",
      "Requirement already satisfied: pydantic-core==2.18.2 in /usr/local/lib/python3.10/dist-packages (from pydantic<3,>=1->langchain-core<0.2.0,>=0.1.46->langchain-openai==0.1.6) (2.18.2)\n",
      "Requirement already satisfied: charset-normalizer<4,>=2 in /usr/local/lib/python3.10/dist-packages (from requests>=2.26.0->tiktoken<1,>=0.5.2->langchain-openai==0.1.6) (3.3.2)\n",
      "Requirement already satisfied: urllib3<3,>=1.21.1 in /usr/local/lib/python3.10/dist-packages (from requests>=2.26.0->tiktoken<1,>=0.5.2->langchain-openai==0.1.6) (1.26.18)\n",
      "Downloading langchain_openai-0.1.6-py3-none-any.whl (34 kB)\n",
      "Installing collected packages: langchain-openai\n",
      "\u001b[31mERROR: pip's dependency resolver does not currently take into account all the packages that are installed. This behaviour is the source of the following dependency conflicts.\n",
      "embedchain 0.1.110 requires langchain-openai<0.2.0,>=0.1.7, but you have langchain-openai 0.1.6 which is incompatible.\u001b[0m\u001b[31m\n",
      "\u001b[0mSuccessfully installed langchain-openai-0.1.6\n",
      "\n",
      "\u001b[1m[\u001b[0m\u001b[34;49mnotice\u001b[0m\u001b[1;39;49m]\u001b[0m\u001b[39;49m A new release of pip is available: \u001b[0m\u001b[31;49m24.2\u001b[0m\u001b[39;49m -> \u001b[0m\u001b[32;49m24.3.1\u001b[0m\n",
      "\u001b[1m[\u001b[0m\u001b[34;49mnotice\u001b[0m\u001b[1;39;49m]\u001b[0m\u001b[39;49m To update, run: \u001b[0m\u001b[32;49mpython3 -m pip install --upgrade pip\u001b[0m\n",
      "Defaulting to user installation because normal site-packages is not writeable\n",
      "Collecting langchain-pinecone==0.1.0\n",
      "  Downloading langchain_pinecone-0.1.0-py3-none-any.whl.metadata (1.4 kB)\n",
      "Requirement already satisfied: langchain-core<0.2.0,>=0.1.40 in /usr/local/lib/python3.10/dist-packages (from langchain-pinecone==0.1.0) (0.1.52)\n",
      "Requirement already satisfied: numpy<2,>=1 in /usr/local/lib/python3.10/dist-packages (from langchain-pinecone==0.1.0) (1.26.4)\n",
      "Collecting pinecone-client<4.0.0,>=3.2.2 (from langchain-pinecone==0.1.0)\n",
      "  Downloading pinecone_client-3.2.2-py3-none-any.whl.metadata (16 kB)\n",
      "Requirement already satisfied: PyYAML>=5.3 in /usr/local/lib/python3.10/dist-packages (from langchain-core<0.2.0,>=0.1.40->langchain-pinecone==0.1.0) (6.0.1)\n",
      "Requirement already satisfied: jsonpatch<2.0,>=1.33 in /usr/local/lib/python3.10/dist-packages (from langchain-core<0.2.0,>=0.1.40->langchain-pinecone==0.1.0) (1.33)\n",
      "Requirement already satisfied: langsmith<0.2.0,>=0.1.0 in /usr/local/lib/python3.10/dist-packages (from langchain-core<0.2.0,>=0.1.40->langchain-pinecone==0.1.0) (0.1.79)\n",
      "Requirement already satisfied: packaging<24.0,>=23.2 in /usr/local/lib/python3.10/dist-packages (from langchain-core<0.2.0,>=0.1.40->langchain-pinecone==0.1.0) (23.2)\n",
      "Requirement already satisfied: pydantic<3,>=1 in /usr/local/lib/python3.10/dist-packages (from langchain-core<0.2.0,>=0.1.40->langchain-pinecone==0.1.0) (2.7.1)\n",
      "Requirement already satisfied: tenacity<9.0.0,>=8.1.0 in /usr/local/lib/python3.10/dist-packages (from langchain-core<0.2.0,>=0.1.40->langchain-pinecone==0.1.0) (8.3.0)\n",
      "Requirement already satisfied: certifi>=2019.11.17 in /usr/local/lib/python3.10/dist-packages (from pinecone-client<4.0.0,>=3.2.2->langchain-pinecone==0.1.0) (2024.2.2)\n",
      "Requirement already satisfied: tqdm>=4.64.1 in /usr/local/lib/python3.10/dist-packages (from pinecone-client<4.0.0,>=3.2.2->langchain-pinecone==0.1.0) (4.66.4)\n",
      "Requirement already satisfied: typing-extensions>=3.7.4 in /usr/local/lib/python3.10/dist-packages (from pinecone-client<4.0.0,>=3.2.2->langchain-pinecone==0.1.0) (4.11.0)\n",
      "Requirement already satisfied: urllib3>=1.26.0 in /usr/local/lib/python3.10/dist-packages (from pinecone-client<4.0.0,>=3.2.2->langchain-pinecone==0.1.0) (1.26.18)\n",
      "Requirement already satisfied: jsonpointer>=1.9 in /usr/local/lib/python3.10/dist-packages (from jsonpatch<2.0,>=1.33->langchain-core<0.2.0,>=0.1.40->langchain-pinecone==0.1.0) (2.4)\n",
      "Requirement already satisfied: orjson<4.0.0,>=3.9.14 in /usr/local/lib/python3.10/dist-packages (from langsmith<0.2.0,>=0.1.0->langchain-core<0.2.0,>=0.1.40->langchain-pinecone==0.1.0) (3.10.5)\n",
      "Requirement already satisfied: requests<3,>=2 in /usr/local/lib/python3.10/dist-packages (from langsmith<0.2.0,>=0.1.0->langchain-core<0.2.0,>=0.1.40->langchain-pinecone==0.1.0) (2.31.0)\n",
      "Requirement already satisfied: annotated-types>=0.4.0 in /usr/local/lib/python3.10/dist-packages (from pydantic<3,>=1->langchain-core<0.2.0,>=0.1.40->langchain-pinecone==0.1.0) (0.6.0)\n",
      "Requirement already satisfied: pydantic-core==2.18.2 in /usr/local/lib/python3.10/dist-packages (from pydantic<3,>=1->langchain-core<0.2.0,>=0.1.40->langchain-pinecone==0.1.0) (2.18.2)\n",
      "Requirement already satisfied: charset-normalizer<4,>=2 in /usr/local/lib/python3.10/dist-packages (from requests<3,>=2->langsmith<0.2.0,>=0.1.0->langchain-core<0.2.0,>=0.1.40->langchain-pinecone==0.1.0) (3.3.2)\n",
      "Requirement already satisfied: idna<4,>=2.5 in /usr/local/lib/python3.10/dist-packages (from requests<3,>=2->langsmith<0.2.0,>=0.1.0->langchain-core<0.2.0,>=0.1.40->langchain-pinecone==0.1.0) (3.7)\n",
      "Downloading langchain_pinecone-0.1.0-py3-none-any.whl (8.4 kB)\n",
      "Downloading pinecone_client-3.2.2-py3-none-any.whl (215 kB)\n",
      "Installing collected packages: pinecone-client, langchain-pinecone\n",
      "  Attempting uninstall: pinecone-client\n",
      "    Found existing installation: pinecone-client 4.0.0\n",
      "    Uninstalling pinecone-client-4.0.0:\n",
      "      Successfully uninstalled pinecone-client-4.0.0\n",
      "Successfully installed langchain-pinecone-0.1.0 pinecone-client-3.2.2\n",
      "\n",
      "\u001b[1m[\u001b[0m\u001b[34;49mnotice\u001b[0m\u001b[1;39;49m]\u001b[0m\u001b[39;49m A new release of pip is available: \u001b[0m\u001b[31;49m24.2\u001b[0m\u001b[39;49m -> \u001b[0m\u001b[32;49m24.3.1\u001b[0m\n",
      "\u001b[1m[\u001b[0m\u001b[34;49mnotice\u001b[0m\u001b[1;39;49m]\u001b[0m\u001b[39;49m To update, run: \u001b[0m\u001b[32;49mpython3 -m pip install --upgrade pip\u001b[0m\n",
      "Defaulting to user installation because normal site-packages is not writeable\n",
      "Requirement already satisfied: tiktoken==0.7.0 in /usr/local/lib/python3.10/dist-packages (0.7.0)\n",
      "Requirement already satisfied: regex>=2022.1.18 in /usr/local/lib/python3.10/dist-packages (from tiktoken==0.7.0) (2023.12.25)\n",
      "Requirement already satisfied: requests>=2.26.0 in /usr/local/lib/python3.10/dist-packages (from tiktoken==0.7.0) (2.31.0)\n",
      "Requirement already satisfied: charset-normalizer<4,>=2 in /usr/local/lib/python3.10/dist-packages (from requests>=2.26.0->tiktoken==0.7.0) (3.3.2)\n",
      "Requirement already satisfied: idna<4,>=2.5 in /usr/local/lib/python3.10/dist-packages (from requests>=2.26.0->tiktoken==0.7.0) (3.7)\n",
      "Requirement already satisfied: urllib3<3,>=1.21.1 in /usr/local/lib/python3.10/dist-packages (from requests>=2.26.0->tiktoken==0.7.0) (1.26.18)\n",
      "Requirement already satisfied: certifi>=2017.4.17 in /usr/local/lib/python3.10/dist-packages (from requests>=2.26.0->tiktoken==0.7.0) (2024.2.2)\n",
      "\n",
      "\u001b[1m[\u001b[0m\u001b[34;49mnotice\u001b[0m\u001b[1;39;49m]\u001b[0m\u001b[39;49m A new release of pip is available: \u001b[0m\u001b[31;49m24.2\u001b[0m\u001b[39;49m -> \u001b[0m\u001b[32;49m24.3.1\u001b[0m\n",
      "\u001b[1m[\u001b[0m\u001b[34;49mnotice\u001b[0m\u001b[1;39;49m]\u001b[0m\u001b[39;49m To update, run: \u001b[0m\u001b[32;49mpython3 -m pip install --upgrade pip\u001b[0m\n",
      "Defaulting to user installation because normal site-packages is not writeable\n",
      "Requirement already satisfied: typing_extensions==4.11.0 in /usr/local/lib/python3.10/dist-packages (4.11.0)\n",
      "\n",
      "\u001b[1m[\u001b[0m\u001b[34;49mnotice\u001b[0m\u001b[1;39;49m]\u001b[0m\u001b[39;49m A new release of pip is available: \u001b[0m\u001b[31;49m24.2\u001b[0m\u001b[39;49m -> \u001b[0m\u001b[32;49m24.3.1\u001b[0m\n",
      "\u001b[1m[\u001b[0m\u001b[34;49mnotice\u001b[0m\u001b[1;39;49m]\u001b[0m\u001b[39;49m To update, run: \u001b[0m\u001b[32;49mpython3 -m pip install --upgrade pip\u001b[0m\n"
     ]
    }
   ],
   "source": [
    "# Install the openai package, locked to version 1.27\n",
    "!pip install openai==1.27\n",
    "\n",
    "# Install the pinecone-client package, locked to version 4.0.0\n",
    "!pip install pinecone-client==4.0.0\n",
    "\n",
    "# Install the langchain package, locked to version 0.1.19\n",
    "!pip install langchain==0.1.19\n",
    "\n",
    "# Install the langchain-openai package, locked to version 0.1.6\n",
    "!pip install langchain-openai==0.1.6\n",
    "\n",
    "# Update the langchain-pinecone package, locked to version 0.1.0\n",
    "!pip install langchain-pinecone==0.1.0\n",
    "\n",
    "# Update the tiktoken package, locked to version 0.7.0\n",
    "!pip install tiktoken==0.7.0\n",
    "\n",
    "# Update the typing_extensions package, locked to version 4.11.0\n",
    "!pip install typing_extensions==4.11.0"
   ]
  },
  {
   "cell_type": "markdown",
   "id": "92a9caca-70fd-4ac0-aa15-1bee55c456d3",
   "metadata": {},
   "source": [
    "### Instructions\n"
   ]
  },
  {
   "cell_type": "markdown",
   "id": "b1fcd794-b29c-4010-8be0-651a452b2044",
   "metadata": {},
   "source": [
    "Run the cell below to install the corresponding packages.\n"
   ]
  },
  {
   "cell_type": "markdown",
   "id": "a214b50c-8ee1-4a1d-a940-4ea1d16da052",
   "metadata": {},
   "source": [
    "## Task 1: Import the Movies Data\n"
   ]
  },
  {
   "cell_type": "markdown",
   "id": "1e8dfee6-dbfb-4550-aca6-a46449dec196",
   "metadata": {},
   "source": [
    "We'll start with importing the dataset we mentioned at the top of this project. You have the dataset available as a CSV in your workspace: `\"IMDB.csv\"`. We need to import the dataset and transform it into a convenient format.\n"
   ]
  },
  {
   "cell_type": "markdown",
   "id": "0f81813d-9803-410d-809a-c690468bda0f",
   "metadata": {},
   "source": [
    "### Instructions\n",
    "\n",
    "- Import the `pandas` package as `pd`\n",
    "- Import `\"IMDB.csv\"` into a variable `movies_raw`.\n",
    "- Print the head of `movies_raw`.\n"
   ]
  },
  {
   "cell_type": "code",
   "execution_count": 2,
   "id": "b75da2a9-e516-42c6-baa3-448cd1e1df2e",
   "metadata": {
    "chartConfig": {
     "bar": {
      "hasRoundedCorners": true,
      "stacked": false
     },
     "type": "bar",
     "version": "v1"
    },
    "collapsed": false,
    "executionCancelledAt": null,
    "executionTime": 1643,
    "jupyter": {
     "outputs_hidden": false,
     "source_hidden": false
    },
    "lastExecutedAt": 1733725167127,
    "lastExecutedByKernel": "be3255dc-5997-467c-a88c-56e75a28b856",
    "lastScheduledRunId": null,
    "lastSuccessfullyExecutedCode": "# Import pandas as pd\nimport pandas as pd\n\n# Import IMBD.csv. Assign to movies_raw.\nmovies_raw=pd.read_csv(\"IMDB.csv\")\n\n# Print the head of movies_raw\nprint(movies_raw.head())\nmovies_raw.columns",
    "outputsMetadata": {
     "0": {
      "height": 185,
      "type": "stream"
     }
    },
    "visualizeDataframe": false
   },
   "outputs": [
    {
     "name": "stdout",
     "output_type": "stream",
     "text": [
      "   Unnamed: 0  ...                                        Description\n",
      "0           0  ...  Jodie Foster stars as Clarice Starling, a top ...\n",
      "1           1  ...  In this sequel set eleven years after \"The Ter...\n",
      "2           2  ...  This Disney animated feature follows the adven...\n",
      "3           3  ...  Vincent Vega (John Travolta) and Jules Winnfie...\n",
      "4           4  ...  Andy Dufresne (Tim Robbins) is sentenced to tw...\n",
      "\n",
      "[5 rows x 21 columns]\n"
     ]
    },
    {
     "data": {
      "text/plain": [
       "Index(['Unnamed: 0', 'index', 'tconst', 'titleType', 'primaryTitle',\n",
       "       'originalTitle', 'isAdult', 'startYear', 'endYear', 'runtimeMinutes',\n",
       "       'genres', 'averageRating', 'numVotes', 'ordering', 'title', 'region',\n",
       "       'language', 'types', 'attributes', 'isOriginalTitle', 'Description'],\n",
       "      dtype='object')"
      ]
     },
     "execution_count": 2,
     "metadata": {},
     "output_type": "execute_result"
    }
   ],
   "source": [
    "# Import pandas as pd\n",
    "import pandas as pd\n",
    "\n",
    "# Import IMBD.csv. Assign to movies_raw.\n",
    "movies_raw=pd.read_csv(\"IMDB.csv\")\n",
    "\n",
    "# Print the head of movies_raw\n",
    "print(movies_raw.head())\n",
    "movies_raw.columns"
   ]
  },
  {
   "cell_type": "markdown",
   "id": "8bb7f9c2-4dd3-42e2-b069-5310ccf1c98e",
   "metadata": {},
   "source": [
    "### Instructions\n",
    "\n",
    "Transform on `movies_raw` and assign to `movies`.\n",
    "\n",
    "- Rename `primaryTitle` to `movie_title` and `Description` to `movie_description`\n",
    "- Create a column `source` that contains the identifier of the movie, prefixed by `\"https://www.imdb.com/title/\"`. The end result should be a working link to the movie. The identifier can be found in the `\"tconst\"` column in `\"IMDB.csv\"`. For example, `\"https://www.imdb.com/title/tt0102926/\"`.\n",
    "- Filter out all rows that do not have `\"movie\"` as a `titleType`\n",
    "- Select the `movie_title`, `movie_description`, `source` and `genres` columns\n",
    "- Show the head of `movies`.\n"
   ]
  },
  {
   "cell_type": "code",
   "execution_count": 3,
   "id": "7d97255b-a124-41a3-b389-2be5b409eff0",
   "metadata": {
    "executionCancelledAt": null,
    "executionTime": 51,
    "lastExecutedAt": 1733725167178,
    "lastExecutedByKernel": "be3255dc-5997-467c-a88c-56e75a28b856",
    "lastScheduledRunId": null,
    "lastSuccessfullyExecutedCode": "# Rename primaryTitle, Description columns. Assign to movies\nmovies_raw=movies_raw.rename(columns={\"primaryTitle\":\"movie_title\",\"Description\":\"movie_description\"})\n\n# Add source column from tconst\nmovies_raw[\"source\"]=\"https://www.imdb.com/title/\"+movies_raw[\"tconst\"]+\"/\"\n\n# Subset for titleType equal to \"movie\"\nmovies_raw[movies_raw[\"titleType\"]!=\"movie\"]\n\n# Select movie_title, movie_description, source, genres columns\nmovies = movies_raw[[\"movie_title\", \"movie_description\", \"source\", \"genres\"]]\n\n# Show the head of movies\nmovies.head()",
    "outputsMetadata": {
     "0": {
      "height": 271,
      "type": "dataFrame"
     }
    }
   },
   "outputs": [
    {
     "data": {
      "application/com.datacamp.data-table.v2+json": {
       "table": {
        "data": {
         "genres": [
          "Crime,Drama,Thriller",
          "Action,Sci-Fi",
          "Adventure,Animation,Drama",
          "Crime,Drama",
          "Drama"
         ],
         "index": [
          0,
          1,
          2,
          3,
          4
         ],
         "movie_description": [
          "Jodie Foster stars as Clarice Starling, a top student at the FBI's training academy. Jack Crawford (Scott Glenn) wants Clarice to interview Dr. Hannibal Lecter (Anthony Hopkins), a brilliant psychiatrist who is also a violent psychopath, serving life behind bars for various acts of murder and cannibalism. Crawford believes that Lecter may have insight into a case and that Starling, as an attractive young woman, may be just the bait to draw him out.",
          "In this sequel set eleven years after \"The Terminator,\" young John Connor (Edward Furlong), the key to civilization's victory over a future robot uprising, is the target of the shape-shifting T-1000 (Robert Patrick), a Terminator sent from the future to kill him. Another Terminator, the revamped T-800 (Arnold Schwarzenegger), has been sent back to protect the boy. As John and his mother (Linda Hamilton) go on the run with the T-800, the boy forms an unexpected bond with the robot.",
          "This Disney animated feature follows the adventures of the young lion Simba (Jonathan Taylor Thomas), the heir of his father, Mufasa (James Earl Jones). Simba's wicked uncle, Scar (Jeremy Irons), plots to usurp Mufasa's throne by luring father and son into a stampede of wildebeests. But Simba escapes, and only Mufasa is killed. Simba returns as an adult (Matthew Broderick) to take back his homeland from Scar with the help of his friends Timon (Nathan Lane) and Pumbaa (Ernie Sabella).",
          "Vincent Vega (John Travolta) and Jules Winnfield (Samuel L. Jackson) are hitmen with a penchant for philosophical discussions. In this ultra-hip, multi-strand crime movie, their storyline is interwoven with those of their boss, gangster Marsellus Wallace (Ving Rhames) ; his actress wife, Mia (Uma Thurman) ; struggling boxer Butch Coolidge (Bruce Willis) ; master fixer Winston Wolfe (Harvey Keitel) and a nervous pair of armed robbers, \"Pumpkin\" (Tim Roth) and \"Honey Bunny\" (Amanda Plummer).",
          "Andy Dufresne (Tim Robbins) is sentenced to two consecutive life terms in prison for the murders of his wife and her lover and is sentenced to a tough prison. However, only Andy knows he didn't commit the crimes. While there, he forms a friendship with Red (Morgan Freeman), experiences brutality of prison life, adapts, helps the warden, etc., all in 19 years."
         ],
         "movie_title": [
          "The Silence of the Lambs",
          "Terminator 2: Judgment Day",
          "The Lion King",
          "Pulp Fiction",
          "The Shawshank Redemption"
         ],
         "source": [
          "https://www.imdb.com/title/tt0102926/",
          "https://www.imdb.com/title/tt0103064/",
          "https://www.imdb.com/title/tt0110357/",
          "https://www.imdb.com/title/tt0110912/",
          "https://www.imdb.com/title/tt0111161/"
         ]
        },
        "schema": {
         "fields": [
          {
           "name": "index",
           "type": "integer"
          },
          {
           "name": "movie_title",
           "type": "string"
          },
          {
           "name": "movie_description",
           "type": "string"
          },
          {
           "name": "source",
           "type": "string"
          },
          {
           "name": "genres",
           "type": "string"
          }
         ],
         "pandas_version": "1.4.0",
         "primaryKey": [
          "index"
         ]
        }
       },
       "total_rows": 5,
       "truncation_type": null
      },
      "text/html": [
       "<div>\n",
       "<style scoped>\n",
       "    .dataframe tbody tr th:only-of-type {\n",
       "        vertical-align: middle;\n",
       "    }\n",
       "\n",
       "    .dataframe tbody tr th {\n",
       "        vertical-align: top;\n",
       "    }\n",
       "\n",
       "    .dataframe thead th {\n",
       "        text-align: right;\n",
       "    }\n",
       "</style>\n",
       "<table border=\"1\" class=\"dataframe\">\n",
       "  <thead>\n",
       "    <tr style=\"text-align: right;\">\n",
       "      <th></th>\n",
       "      <th>movie_title</th>\n",
       "      <th>movie_description</th>\n",
       "      <th>source</th>\n",
       "      <th>genres</th>\n",
       "    </tr>\n",
       "  </thead>\n",
       "  <tbody>\n",
       "    <tr>\n",
       "      <th>0</th>\n",
       "      <td>The Silence of the Lambs</td>\n",
       "      <td>Jodie Foster stars as Clarice Starling, a top ...</td>\n",
       "      <td>https://www.imdb.com/title/tt0102926/</td>\n",
       "      <td>Crime,Drama,Thriller</td>\n",
       "    </tr>\n",
       "    <tr>\n",
       "      <th>1</th>\n",
       "      <td>Terminator 2: Judgment Day</td>\n",
       "      <td>In this sequel set eleven years after \"The Ter...</td>\n",
       "      <td>https://www.imdb.com/title/tt0103064/</td>\n",
       "      <td>Action,Sci-Fi</td>\n",
       "    </tr>\n",
       "    <tr>\n",
       "      <th>2</th>\n",
       "      <td>The Lion King</td>\n",
       "      <td>This Disney animated feature follows the adven...</td>\n",
       "      <td>https://www.imdb.com/title/tt0110357/</td>\n",
       "      <td>Adventure,Animation,Drama</td>\n",
       "    </tr>\n",
       "    <tr>\n",
       "      <th>3</th>\n",
       "      <td>Pulp Fiction</td>\n",
       "      <td>Vincent Vega (John Travolta) and Jules Winnfie...</td>\n",
       "      <td>https://www.imdb.com/title/tt0110912/</td>\n",
       "      <td>Crime,Drama</td>\n",
       "    </tr>\n",
       "    <tr>\n",
       "      <th>4</th>\n",
       "      <td>The Shawshank Redemption</td>\n",
       "      <td>Andy Dufresne (Tim Robbins) is sentenced to tw...</td>\n",
       "      <td>https://www.imdb.com/title/tt0111161/</td>\n",
       "      <td>Drama</td>\n",
       "    </tr>\n",
       "  </tbody>\n",
       "</table>\n",
       "</div>"
      ],
      "text/plain": [
       "                  movie_title  ...                     genres\n",
       "0    The Silence of the Lambs  ...       Crime,Drama,Thriller\n",
       "1  Terminator 2: Judgment Day  ...              Action,Sci-Fi\n",
       "2               The Lion King  ...  Adventure,Animation,Drama\n",
       "3                Pulp Fiction  ...                Crime,Drama\n",
       "4    The Shawshank Redemption  ...                      Drama\n",
       "\n",
       "[5 rows x 4 columns]"
      ]
     },
     "execution_count": 3,
     "metadata": {},
     "output_type": "execute_result"
    }
   ],
   "source": [
    "# Rename primaryTitle, Description columns. Assign to movies\n",
    "movies_raw=movies_raw.rename(columns={\"primaryTitle\":\"movie_title\",\"Description\":\"movie_description\"})\n",
    "\n",
    "# Add source column from tconst\n",
    "movies_raw[\"source\"]=\"https://www.imdb.com/title/\"+movies_raw[\"tconst\"]+\"/\"\n",
    "\n",
    "# Subset for titleType equal to \"movie\"\n",
    "movies_raw[movies_raw[\"titleType\"]!=\"movie\"]\n",
    "\n",
    "# Select movie_title, movie_description, source, genres columns\n",
    "movies = movies_raw[[\"movie_title\", \"movie_description\", \"source\", \"genres\"]]\n",
    "\n",
    "# Show the head of movies\n",
    "movies.head()"
   ]
  },
  {
   "cell_type": "markdown",
   "id": "4b05e160-1451-4a57-bb94-533003ae18c2",
   "metadata": {},
   "source": [
    "## Task 2: Create Documents from the Data\n"
   ]
  },
  {
   "cell_type": "markdown",
   "id": "2b9b5682-3d6a-4954-adbd-67da3c94b6d1",
   "metadata": {},
   "source": [
    "Later in this project, we will be creating vector embeddings for all of the rows in the `movies` DataFrame. Before we do so, we need to create [Document](https://docs.langchain.com/docs/components/schema/document) objects from the data in the DataFrame. To accomplish this, we can utilize the `DataFrameLoader` class provided by langchain, which allows us to create documents from a pandas DataFrame.\n",
    "\n",
    "For the main content of the documents, we will create a summary string that includes relevant information about each movie. To achieve this, we will combine the movie title, description, and genre into a `page_content` column. Additionally, we will retain the IMDB link in the `source` column as metadata.\n"
   ]
  },
  {
   "cell_type": "markdown",
   "id": "0caf40d3-d1e8-4eb6-ad48-5fa90374b750",
   "metadata": {},
   "source": [
    "### Instructions\n"
   ]
  },
  {
   "cell_type": "markdown",
   "id": "ea6b483c-f719-4174-be5c-c7589d7de738",
   "metadata": {},
   "source": [
    "- Import `DataFrameLoader` from `langchain.document_loaders`\n",
    "- Create a column `page_content` that creates strings that contain information about the movie title, genre and description. For example, the first movie should look like this:\n",
    "\n",
    "```\n",
    "Title: The Silence of the Lambs\n",
    "Genre: Crime,Drama,Thriller\n",
    "Description: Jodie Foster stars as Clarice Starling, a top student at the FBI's training academy. Jack Crawford (Scott Glenn) wants Clarice to interview Dr. Hannibal Lecter (Anthony Hopkins), a brilliant psychiatrist who is also a violent psychopath, serving life behind bars for various acts of murder and cannibalism. Crawford believes that Lecter may have insight into a case and that Starling, as an attractive young woman, may be just the bait to draw him out.\n",
    "```\n",
    "\n",
    "- Only keep the columns `page_content` and `source` in the movies DataFrame\n",
    "- Use `DataFrameLoader` to load documents from the `movies` DataFrame into `docs`. Use `\"page_content\"` as the `page_content_column`.\n",
    "- Print the first 3 documents and the total number of documents\n"
   ]
  },
  {
   "cell_type": "code",
   "execution_count": 4,
   "id": "bca1a148-ca90-4380-8dba-b574068ed108",
   "metadata": {
    "executionCancelledAt": null,
    "executionTime": 894,
    "lastExecutedAt": 1733725168072,
    "lastExecutedByKernel": "be3255dc-5997-467c-a88c-56e75a28b856",
    "lastScheduledRunId": null,
    "lastSuccessfullyExecutedCode": "# Import DataFrameLoader\nfrom langchain.document_loaders import DataFrameLoader\n\nprint(movies.columns)\n# Create page content column\nmovies[\"page_content\"]=\"Title: \"+movies[\"movie_title\"]+\"\\n\"+\"Genre: \"+movies[\"genres\"]+\"\\n\"+\"Description: \"+movies[\"movie_description\"]\n\n# Select page_content and source columns\nmovies=movies[[\"page_content\",\"source\"]]\n\nmovies.head()\n# Load the documents from the dataframe into docs\n# The page content column is 'movie_description'\nloader = DataFrameLoader(data_frame=movies,page_content_column=\"page_content\")\ndocs = loader.load()\n\n\n\n# Print the first 3 documents and the number of documents\nprint(f\"First 3 documents: {docs[:3]}\")\nprint(f\"Number of documents: {len(docs)}\")",
    "outputsMetadata": {
     "0": {
      "height": 574,
      "type": "stream"
     },
     "1": {
      "height": 221,
      "type": "dataFrame"
     }
    }
   },
   "outputs": [
    {
     "name": "stdout",
     "output_type": "stream",
     "text": [
      "Index(['movie_title', 'movie_description', 'source', 'genres'], dtype='object')\n",
      "First 3 documents: [Document(page_content=\"Title: The Silence of the Lambs\\nGenre: Crime,Drama,Thriller\\nDescription: Jodie Foster stars as Clarice Starling, a top student at the FBI's training academy. Jack Crawford (Scott Glenn) wants Clarice to interview Dr. Hannibal Lecter (Anthony Hopkins), a brilliant psychiatrist who is also a violent psychopath, serving life behind bars for various acts of murder and cannibalism. Crawford believes that Lecter may have insight into a case and that Starling, as an attractive young woman, may be just the bait to draw him out.\", metadata={'source': 'https://www.imdb.com/title/tt0102926/'}), Document(page_content='Title: Terminator 2: Judgment Day\\nGenre: Action,Sci-Fi\\nDescription: In this sequel set eleven years after \"The Terminator,\" young John Connor (Edward Furlong), the key to civilization\\'s victory over a future robot uprising, is the target of the shape-shifting T-1000 (Robert Patrick), a Terminator sent from the future to kill him. Another Terminator, the revamped T-800 (Arnold Schwarzenegger), has been sent back to protect the boy. As John and his mother (Linda Hamilton) go on the run with the T-800, the boy forms an unexpected bond with the robot.', metadata={'source': 'https://www.imdb.com/title/tt0103064/'}), Document(page_content=\"Title: The Lion King\\nGenre: Adventure,Animation,Drama\\nDescription: This Disney animated feature follows the adventures of the young lion Simba (Jonathan Taylor Thomas), the heir of his father, Mufasa (James Earl Jones). Simba's wicked uncle, Scar (Jeremy Irons), plots to usurp Mufasa's throne by luring father and son into a stampede of wildebeests. But Simba escapes, and only Mufasa is killed. Simba returns as an adult (Matthew Broderick) to take back his homeland from Scar with the help of his friends Timon (Nathan Lane) and Pumbaa (Ernie Sabella).\", metadata={'source': 'https://www.imdb.com/title/tt0110357/'})]\n",
      "Number of documents: 7850\n"
     ]
    }
   ],
   "source": [
    "# Import DataFrameLoader\n",
    "from langchain.document_loaders import DataFrameLoader\n",
    "\n",
    "print(movies.columns)\n",
    "# Create page content column\n",
    "movies[\"page_content\"]=\"Title: \"+movies[\"movie_title\"]+\"\\n\"+\"Genre: \"+movies[\"genres\"]+\"\\n\"+\"Description: \"+movies[\"movie_description\"]\n",
    "\n",
    "# Select page_content and source columns\n",
    "movies=movies[[\"page_content\",\"source\"]]\n",
    "\n",
    "movies.head()\n",
    "# Load the documents from the dataframe into docs\n",
    "# The page content column is 'movie_description'\n",
    "loader = DataFrameLoader(data_frame=movies,page_content_column=\"page_content\")\n",
    "docs = loader.load()\n",
    "\n",
    "\n",
    "\n",
    "# Print the first 3 documents and the number of documents\n",
    "print(f\"First 3 documents: {docs[:3]}\")\n",
    "print(f\"Number of documents: {len(docs)}\")"
   ]
  },
  {
   "cell_type": "markdown",
   "id": "0b05e466-807c-42a2-8272-46ba547ae7b6",
   "metadata": {},
   "source": [
    "## Task 3: Estimate the Cost of Embedding\n"
   ]
  },
  {
   "cell_type": "markdown",
   "id": "a8f9087b-d05a-4e4a-a7e7-0e3b13ce8b5d",
   "metadata": {},
   "source": [
    "We're going to be using OpenAI to calculate [vector embeddings](https://platform.openai.com/docs/guides/embeddings/embeddings) of the document texts. Creating embeddings is a form of dimensionality reduction, where we assign the text to a point in an N-dimensional space. Texts that are semantically close to each other should end up being close to each other in the N-dimensional space.\n",
    "\n",
    "Luckily, OpenAI has several models that are trained to calculate these kinds of embeddings, so we don't have to do that ourselves. Of course, a cost is associated with this. You can derive the cost from the [pricing page of OpenAI](https://openai.com/pricing).\n",
    "\n",
    "The calculation is based on the amount of _tokens_ in the text. All text is encoded into tokens to be used by OpenAI. On average, a token consists of roughly 3 characters. However, we can calculate the exact tokens for a string of text by using the `tiktoken` package.\n",
    "\n",
    "The goal of this task is to calculate the number of tokens in the documents, to then extrapolate the estimated cost.\n"
   ]
  },
  {
   "cell_type": "markdown",
   "id": "1d29906f-89e9-499e-846b-b69b94920413",
   "metadata": {},
   "source": [
    "### Instructions\n"
   ]
  },
  {
   "cell_type": "markdown",
   "id": "f4b64d17-7f48-4fe0-90f4-47b70a39e1d4",
   "metadata": {},
   "source": [
    "- Import `tiktoken`\n",
    "- Create the encoder, use the `\"cl100k_base\"` encoder. This is the encoder used by OpenAI to calculate the embeddings for text using the `text-embedding-ada-002` model.\n",
    "- Create a list that contains the amount of tokens for each document\n",
    "- Calculate the estimated cost: the sum of all tokens, divided by 1000 tokens, multiplied with $0.0001\n"
   ]
  },
  {
   "cell_type": "code",
   "execution_count": 5,
   "id": "44a1bbe0-b0c5-4295-be95-92711e751755",
   "metadata": {
    "executionCancelledAt": null,
    "executionTime": 1090,
    "lastExecutedAt": 1733725169163,
    "lastExecutedByKernel": "be3255dc-5997-467c-a88c-56e75a28b856",
    "lastScheduledRunId": null,
    "lastSuccessfullyExecutedCode": "# Import tiktoken\nimport tiktoken\n\ndef num_tokens_from_string(string: str, encoding_name: str=\"cl100k_base\") -> int:\n    \"\"\"Returns the number of tokens in a text string.\"\"\"\n    encoding = tiktoken.get_encoding(encoding_name)\n    num_tokens = len(encoding.encode(string))\n    return num_tokens\n\n# Create a list containing the number of tokens for each document\ntokens_per_doc=[num_tokens_from_string(doc.page_content) for doc in docs]\n\n# Show the estimated cost, which is the sum of the amount of tokens divided by 1000, times $0.0001\ntotal_tokens = sum(tokens_per_doc)\ncost_per_1000_tokens = 0.0001\ncost = (total_tokens / 1000) * cost_per_1000_tokens\ncost"
   },
   "outputs": [
    {
     "data": {
      "text/plain": [
       "0.0641107"
      ]
     },
     "execution_count": 5,
     "metadata": {},
     "output_type": "execute_result"
    }
   ],
   "source": [
    "# Import tiktoken\n",
    "import tiktoken\n",
    "\n",
    "def num_tokens_from_string(string: str, encoding_name: str=\"cl100k_base\") -> int:\n",
    "    \"\"\"Returns the number of tokens in a text string.\"\"\"\n",
    "    encoding = tiktoken.get_encoding(encoding_name)\n",
    "    num_tokens = len(encoding.encode(string))\n",
    "    return num_tokens\n",
    "\n",
    "# Create a list containing the number of tokens for each document\n",
    "tokens_per_doc=[num_tokens_from_string(doc.page_content) for doc in docs]\n",
    "\n",
    "# Show the estimated cost, which is the sum of the amount of tokens divided by 1000, times $0.0001\n",
    "total_tokens = sum(tokens_per_doc)\n",
    "cost_per_1000_tokens = 0.0001\n",
    "cost = (total_tokens / 1000) * cost_per_1000_tokens\n",
    "cost"
   ]
  },
  {
   "cell_type": "markdown",
   "id": "44c07a82-540e-4c7c-ac04-9426b8511933",
   "metadata": {},
   "source": [
    "## Task 4: Create the Index on Pinecone\n"
   ]
  },
  {
   "cell_type": "markdown",
   "id": "a9084628-ad8d-488f-85b5-230ca5130e3e",
   "metadata": {},
   "source": [
    "Looks like calculating the embeddings is not going to be too expensive. It's always smart to get a rough estimate on the amount of tokens used, so you get an idea of the cost of calculating the embeddings using OpenAI.\n",
    "\n",
    "Now we're ready to create the index on Pinecone. An [index in Pinecone](https://docs.pinecone.io/docs/indexes) can be used to store vectors. You can compare an index in Pinecone to a table in SQL, it stores information of one type of object.\n",
    "\n",
    "In a later task, we'll be creating vectors from the documents we just created using OpenAI's second-generation embedding model. It's important to already know the embeddings we're going to use since we need to know the output dimensions to create an index. For `text-embedding-ada-002`, this is `1536` dimensions ([source](https://platform.openai.com/docs/guides/embeddings/second-generation-models)).\n",
    "\n",
    "At the end of this task, you should be able to find your new index, `imdb-movies`, in the [Pinecone UI](https://app.pinecone.io/).\n",
    "\n",
    "![Pinecone UI](pinecone_ui.png)\n"
   ]
  },
  {
   "cell_type": "markdown",
   "id": "498035c1-ce3e-4634-8d98-084650953dc3",
   "metadata": {},
   "source": [
    "### Instructions\n",
    "\n",
    "Initialize Pinecone, getting setup details from DataLab environment variables.\n",
    "\n",
    "- Import the `os` package.\n",
    "- Import the `pinecone` package.\n",
    "- Set the pinecone api key from the environment variable. Assign to `api_key`.\n",
    "- Initialize Pinecone using the API key. Assign to `pc`.\n"
   ]
  },
  {
   "cell_type": "code",
   "execution_count": 6,
   "id": "7625cb90-92c9-46cb-a5b2-9b3e18e01954",
   "metadata": {
    "executionCancelledAt": null,
    "executionTime": 122,
    "lastExecutedAt": 1733725169285,
    "lastExecutedByKernel": "be3255dc-5997-467c-a88c-56e75a28b856",
    "lastScheduledRunId": null,
    "lastSuccessfullyExecutedCode": "# Import os and pinecone\nimport os\nimport pinecone\nfrom pinecone import Pinecone, ServerlessSpec\n\n# Print the environment variables for OpenAI and Pinecone\nopenai_api_key = os.getenv('OPENAI_API_KEY')\npinecone_api_key = os.getenv('PINECONE_API_KEY')\n\n# Set the pinecone api key from the environment variable.\npc = Pinecone(api_key=pinecone_api_key)\n\n\n#setup index specification \ncloud = os.environ.get('PINECONE_CLOUD') or 'aws'\nregion = os.environ.get('PINECONE_REGION') or 'us-east-1'\nspec = ServerlessSpec(cloud=cloud, region=region)\n\n# index name \nindex_name=\"imdb-movies\""
   },
   "outputs": [],
   "source": [
    "# Import os and pinecone\n",
    "import os\n",
    "import pinecone\n",
    "from pinecone import Pinecone, ServerlessSpec\n",
    "\n",
    "# Print the environment variables for OpenAI and Pinecone\n",
    "openai_api_key = os.getenv('OPENAI_API_KEY')\n",
    "pinecone_api_key = os.getenv('PINECONE_API_KEY')\n",
    "\n",
    "# Set the pinecone api key from the environment variable.\n",
    "pc = Pinecone(api_key=pinecone_api_key)\n",
    "\n",
    "\n",
    "#setup index specification \n",
    "cloud = os.environ.get('PINECONE_CLOUD') or 'aws'\n",
    "region = os.environ.get('PINECONE_REGION') or 'us-east-1'\n",
    "spec = ServerlessSpec(cloud=cloud, region=region)\n",
    "\n",
    "# index name \n",
    "index_name=\"imdb-movies\""
   ]
  },
  {
   "cell_type": "code",
   "execution_count": 7,
   "id": "6ade74d4-0888-410b-8167-f95a94d4ce77",
   "metadata": {
    "executionCancelledAt": null,
    "executionTime": 410,
    "lastExecutedAt": 1733725169697,
    "lastExecutedByKernel": "be3255dc-5997-467c-a88c-56e75a28b856",
    "lastScheduledRunId": null,
    "lastSuccessfullyExecutedCode": "import time\n\n#list all the index\nprint(pc.list_indexes().names())\n\n# check if index already exists (it shouldn't if this is first time)\nif index_name not in pc.list_indexes().names():\n    # if does not exist, create index\n    pc.create_index(\n        name=index_name,\n        dimension=1536,  # dimensionality of text-embedding-ada-002\n        metric='cosine',\n        spec=spec\n    )\n    # wait for index to be initialized\n    time.sleep(1)\n\n# connect to index\nindex = pc.Index(index_name)\n# view index stats\nindex.describe_index_stats()",
    "outputsMetadata": {
     "0": {
      "height": 38,
      "type": "stream"
     }
    }
   },
   "outputs": [
    {
     "name": "stdout",
     "output_type": "stream",
     "text": [
      "['imdb-movies']\n"
     ]
    },
    {
     "data": {
      "text/plain": [
       "{'dimension': 1536,\n",
       " 'index_fullness': 0.0,\n",
       " 'namespaces': {'': {'vector_count': 7850}},\n",
       " 'total_vector_count': 7850}"
      ]
     },
     "execution_count": 7,
     "metadata": {},
     "output_type": "execute_result"
    }
   ],
   "source": [
    "import time\n",
    "\n",
    "#list all the index\n",
    "print(pc.list_indexes().names())\n",
    "\n",
    "# check if index already exists (it shouldn't if this is first time)\n",
    "if index_name not in pc.list_indexes().names():\n",
    "    # if does not exist, create index\n",
    "    pc.create_index(\n",
    "        name=index_name,\n",
    "        dimension=1536,  # dimensionality of text-embedding-ada-002\n",
    "        metric='cosine',\n",
    "        spec=spec\n",
    "    )\n",
    "    # wait for index to be initialized\n",
    "    time.sleep(1)\n",
    "\n",
    "# connect to index\n",
    "index = pc.Index(index_name)\n",
    "# view index stats\n",
    "index.describe_index_stats()"
   ]
  },
  {
   "cell_type": "markdown",
   "id": "447ca370-700a-4fa9-bb85-2ebc49a89308",
   "metadata": {},
   "source": [
    "## Task 5: Fill the Index with the Documents\n"
   ]
  },
  {
   "cell_type": "markdown",
   "id": "9ea4d375-28be-4deb-a11d-960215c13589",
   "metadata": {},
   "source": [
    "Now that we have the vector index at our disposal, it's time to populate it with some vectors. In this task, we'll need to:\n",
    "\n",
    "1. Generate vector embeddings for all documents in `docs`. We'll utilize OpenAI for this purpose. langchain provides a convenient helper for this task, `langchain.embeddings.openai.OpenAIEmbeddings`, which you can use to generate embeddings using the latest `text-embedding-ada-002` model.\n",
    "2. Populate the vector index in Pinecone with these embeddings. Fortunately, langchain also offers assistance with this through the [`langchain.vectorstores.Pinecone`](https://python.langchain.com/docs/integrations/vectorstores/pinecone) helper.\n",
    "\n",
    "These two steps can be combined using the convenient helper method `.from_document` of the `Pinecone` class. This method accepts an embedding model as input and efficiently calculates the embeddings, subsequently uploading them to Pinecone. We will also introduce some control flow to the code to ensure we do not add data to the Pinecone index if it already contains data. To achieve this, we can make use of the `.from_existing_index` method of `Pinecone`.\n",
    "\n",
    "In addition to storing vectors, Pinecone allows the storage of additional metadata. When using the langchain helpers, it automatically assumes that vectors should be created from the `page_content` property of each `Document`. All other properties will be included as metadata.\n",
    "\n",
    "You can verify that everything has worked correctly by accessing the `imdb-movies` index in the Pinecone UI.\n",
    "\n",
    "![Pinecone UI showing the imdb-movies index](pinecone_ui_index.png)\n"
   ]
  },
  {
   "cell_type": "markdown",
   "id": "290c64c4-c5d2-426f-bb71-2d98fdd2d89c",
   "metadata": {},
   "source": [
    "### Instructions\n",
    "\n",
    "- From the `langchain_openai` package, import `OpenAIEmbeddings`.\n",
    "- From the `langchain_pinecone` package, import `PineconeVectorStore`.\n",
    "- Create the embeddings object.\n",
    "- Create an index from its name.\n"
   ]
  },
  {
   "cell_type": "code",
   "execution_count": 8,
   "id": "d31de2ab-bc68-402e-a61b-350de59246f0",
   "metadata": {
    "collapsed": false,
    "executionCancelledAt": null,
    "executionTime": 734,
    "jupyter": {
     "outputs_hidden": false,
     "source_hidden": false
    },
    "lastExecutedAt": 1733725170431,
    "lastExecutedByKernel": "be3255dc-5997-467c-a88c-56e75a28b856",
    "lastScheduledRunId": null,
    "lastSuccessfullyExecutedCode": "# From the langchain_openai package, import OpenAIEmbeddings\nfrom langchain_openai import OpenAIEmbeddings\n\n# From the langchain_pinecone package, import PineconeVectorStore\nfrom langchain_pinecone import PineconeVectorStore\n\n# Create the embeddings object\nembeddings = OpenAIEmbeddings(model=\"text-embedding-3-small\")\n\n#creating vector store\nvector_store = PineconeVectorStore(index=index, embedding=embeddings)\n"
   },
   "outputs": [],
   "source": [
    "# From the langchain_openai package, import OpenAIEmbeddings\n",
    "from langchain_openai import OpenAIEmbeddings\n",
    "\n",
    "# From the langchain_pinecone package, import PineconeVectorStore\n",
    "from langchain_pinecone import PineconeVectorStore\n",
    "\n",
    "# Create the embeddings object\n",
    "embeddings = OpenAIEmbeddings(model=\"text-embedding-3-small\")\n",
    "\n",
    "#creating vector store\n",
    "vector_store = PineconeVectorStore(index=index, embedding=embeddings)\n"
   ]
  },
  {
   "cell_type": "markdown",
   "id": "1e1cc456-8a07-4775-892c-729f4b048a86",
   "metadata": {},
   "source": [
    "### Instructions\n",
    "\n",
    "Fill the index. _Some control flow is provided._\n",
    "\n",
    "- Count the number of vectors in the index. Assign to `n_vectors`.\n",
    "- Check if there is already some data in the index. (If `n_vectors` is greater than zero.)\n",
    "- If there is data in the index, get the documents to search from the index. Assign to `docsearch`.\n",
    "- If there is no data, fill the index from the documents and return those docs to assign to `docsearch`.\n",
    "- Use the predefined question to ask about movies.\n",
    "- Convert the vector database to a retriever and get the relevant documents for a question.\n"
   ]
  },
  {
   "cell_type": "markdown",
   "id": "3470ad57-21b4-4d3f-ab59-dc9ffd260655",
   "metadata": {},
   "source": [
    "<details>\n",
    "<summary>Code hints</summary>\n",
    "<p>\n",
    "    \n",
    "Get statistics about the index with `index.describe_index_stats()`. The `total_vector_count` element contains the number of vectors in the index.\n",
    "    \n",
    "---\n",
    "\n",
    "If there already is an index, you can retrieve the documents using `Pinecone.from_existing_index()`, passing the index name and the type of embeddings (in this case `OpenAIEmbeddings()`).\n",
    "\n",
    "---\n",
    "\n",
    "If there is no data in the index, you can populate it with `Pinecone.from_documents()`, passing the documents, the type of embeddings, and setting `index_name` to the index name.\n",
    "\n",
    "---\n",
    "\n",
    "Convert the documents to a retriever using the `.as_retriever()` method, passing no arguments.\n",
    "\n",
    "---\n",
    "\n",
    "Get the relevant documents from the retriever using `.get_relevant_documents()`, passing the question.\n",
    "\n",
    "</p>\n",
    "</details>\n"
   ]
  },
  {
   "cell_type": "code",
   "execution_count": 9,
   "id": "3f9e05c1-b296-4d06-8391-5abf7a258559",
   "metadata": {
    "executionCancelledAt": null,
    "executionTime": 1320,
    "lastExecutedAt": 1733725171752,
    "lastExecutedByKernel": "be3255dc-5997-467c-a88c-56e75a28b856",
    "lastScheduledRunId": null,
    "lastSuccessfullyExecutedCode": "# counting number of document the list of docs ==> docs list of documents\ntotal_num = len(docs)\n\n#counting total number of vector \nn_vectors =index.describe_index_stats()[\"total_vector_count\"]\nprint(f\"{n_vectors} are there in VectorDB\")\n\n#creating ids for document to be added in vector data space\nids=[f\"{i}\" for i in range(total_num)]\n\n# Check if there is already some data in the index on Pinecone\nif n_vectors > 0:\n    # If there is, get the documents to search from the index. Assign to docsearch.\n    docsearch = PineconeVectorStore.from_existing_index(index_name, embeddings)\nelse:\n    # If not, fill the index from the documents and return those docs to assign to docsearch\n    docsearch = PineconeVectorStore.from_documents(docs, embeddings, index_name=index_name)\n    \n# Define a question about movies to ask\nquestion = \"What's a good movie about an epic viking?\"\n    \n# Convert the vector database to a retriever and get the relevant documents for a question\nprint(\"These are the documents most relevant to the question:\")\ndocsearch.as_retriever().invoke(question)",
    "outputsMetadata": {
     "0": {
      "height": 59,
      "type": "stream"
     }
    }
   },
   "outputs": [
    {
     "name": "stdout",
     "output_type": "stream",
     "text": [
      "7850 are there in VectorDB\n",
      "These are the documents most relevant to the question:\n"
     ]
    },
    {
     "data": {
      "text/plain": [
       "[Document(page_content='Title: Vikingane\\nGenre: Comedy,History\\nDescription: The residents of an 8th-century Viking village experience political rivalry, social change and innovations that upend their culture and way of life.', metadata={'source': 'https://www.imdb.com/title/tt5905354/'}),\n",
       " Document(page_content='Title: The Northman\\nGenre: Action,Adventure,Drama\\nDescription: The Northman is an epic revenge thriller, that explores how far a Viking prince will go to seek justice for his murdered father.', metadata={'source': 'https://www.imdb.com/title/tt11138512/'}),\n",
       " Document(page_content=\"Title: Vinland Saga\\nGenre: Action,Adventure,Animation\\nDescription: Raised by the Vikings who murdered his family after they raided his land, Thorfinn becomes a terrifying warrior, forever seeking to kill the band's leader, Askeladd, and avenge his father.\", metadata={'source': 'https://www.imdb.com/title/tt10233448/'}),\n",
       " Document(page_content='Title: Vikings: Valhalla\\nGenre: Action,Adventure,Drama\\nDescription: The adventures of famous Vikings as they blaze new paths in an ever-changing Europe.', metadata={'source': 'https://www.imdb.com/title/tt11311302/'})]"
      ]
     },
     "execution_count": 9,
     "metadata": {},
     "output_type": "execute_result"
    }
   ],
   "source": [
    "# counting number of document the list of docs ==> docs list of documents\n",
    "total_num = len(docs)\n",
    "\n",
    "#counting total number of vector \n",
    "n_vectors =index.describe_index_stats()[\"total_vector_count\"]\n",
    "print(f\"{n_vectors} are there in VectorDB\")\n",
    "\n",
    "#creating ids for document to be added in vector data space\n",
    "ids=[f\"{i}\" for i in range(total_num)]\n",
    "\n",
    "# Check if there is already some data in the index on Pinecone\n",
    "if n_vectors > 0:\n",
    "    # If there is, get the documents to search from the index. Assign to docsearch.\n",
    "    docsearch = PineconeVectorStore.from_existing_index(index_name, embeddings)\n",
    "else:\n",
    "    # If not, fill the index from the documents and return those docs to assign to docsearch\n",
    "    docsearch = PineconeVectorStore.from_documents(docs, embeddings, index_name=index_name)\n",
    "    \n",
    "# Define a question about movies to ask\n",
    "question = \"What's a good movie about an epic viking?\"\n",
    "    \n",
    "# Convert the vector database to a retriever and get the relevant documents for a question\n",
    "print(\"These are the documents most relevant to the question:\")\n",
    "docsearch.as_retriever().invoke(question)"
   ]
  },
  {
   "cell_type": "markdown",
   "id": "9de4edfc-55fa-42ec-a23d-3d9607216e2e",
   "metadata": {},
   "source": [
    "## Task 6: Create Prompts for RAG\n"
   ]
  },
  {
   "cell_type": "markdown",
   "id": "66aa737c-4947-48d4-a9e9-4d5cd38b21c0",
   "metadata": {},
   "source": [
    "In the previous task, we observed that the vector store can be utilized to retrieve relevant documents related to specific queries. For instance, when asked \"What's a good movie about vikings?\", the movie 'The Northman' was returned as a result. It is important to note that we did not incorporate any measure of movie quality into the system, so the notion of the movie being \"good\" is not explicitly encoded in the embeddings. It is crucial to always consider the data provided to the system and interpret the results of the AI system within that context. To enhance the results, one approach could be to include information about the movie quality in the movie description.\n",
    "\n",
    "The remarkable aspect of RAG is the ability to provide relevant context to the LLM within the prompt itself. In the aforementioned example, we would include a description of 'The Northman' in the prompt, enabling the LLM to generate factual information beyond its knowledge cutoff. 'The Northman' was released in 2022, while the knowledge cutoff for the GPT-3.5 Turbo model is set at September 2021.\n",
    "\n",
    "Now that you understand how the retriever can be employed to retrieve relevant documents from the vector database, we need to devise a prompt that presents this information to the LLM when we pose a question.\n",
    "\n",
    "We require two types of [prompt templates](https://python.langchain.com/docs/modules/model_io/prompts/prompt_templates/):\n",
    "\n",
    "- A template that demonstrates how the information in relevant documents is presented to the LLM\n",
    "- A template that combines the context with the rest of the prompt\n",
    "\n",
    "Some example prompt templates are provided in the sample code below, which you are free to edit. Notice that these example templates contain `=========` separators between different parts of the text. These kinds of delimiters are a common tactic to help the LLM distinguish between different parts of your input prompt.\n"
   ]
  },
  {
   "cell_type": "markdown",
   "id": "b73889c7-4776-4290-abe1-9bb272665c79",
   "metadata": {},
   "source": [
    "### Instructions\n",
    "\n",
    "Create the question and document prompts.\n",
    "\n",
    "- Import `PromptTemplate` from `langchain.prompts`\n",
    "- Some example prompt templates are already provided for you. You are free to adapt them at your will. There are two prompt templates:\n",
    "  - `DOCUMENT_PROMPT`: this template shows how a summary text is created for each document. The properties between the curly brackets (`{`) are replaced with the properties of each `Document`.\n",
    "  - `QUESTION_PROMPT`: this template creates the full prompt that is sent to the LLM. `question` is replaced by the question asked by the user, and `summaries` is replaced with the summary of each relevant document, created by the `DOCUMENT_PROMPT` template\n",
    "- Create the `PromptTemplate` objects by using `PromptTemplate.from_template`. Call them `document_prompt` and `question_prompt`, respectively.\n"
   ]
  },
  {
   "cell_type": "code",
   "execution_count": 17,
   "id": "9b2932a2-8b1b-48d6-a18d-bc2f12ebc2c5",
   "metadata": {
    "executionCancelledAt": null,
    "executionTime": 50,
    "lastExecutedAt": 1733727131665,
    "lastExecutedByKernel": "be3255dc-5997-467c-a88c-56e75a28b856",
    "lastScheduledRunId": null,
    "lastSuccessfullyExecutedCode": "# Import PromptTemplate\nfrom langchain.prompts import PromptTemplate\n\n# Read/adapt the prompts below at will\nDOCUMENT_PROMPT = \"\"\"{page_content}\nIMDB link: {source}\n=========\"\"\"\n\nQUESTION_PROMPT = \"\"\"Given the following extracted parts of a movie database and a question, create a final answer with the IMDB link as source (\"SOURCE\").\nIf you don't know the answer, just say that you don't know. Don't try to make up an answer.\nALWAYS return a \"SOURCE\" part in your answer.\n\nQUESTION: What's a good movie about a robot to watch with my kid?\n=========\nTitle: A.I. Artificial Intelligence\nGenre: Drama,Sci-Fi\nDescription: A robotic boy, the first programmed to love, David (Haley Joel Osment) is adopted as a test case by a Cybertronics employee (Sam Robards) and his wife (Frances O'Connor). Though he gradually becomes their child, a series of unexpected circumstances make this life impossible for David. Without final acceptance by humans or machines, David embarks on a journey to discover where he truly belongs, uncovering a world in which the line between robot and machine is both vast and profoundly thin.\nIMDB link: https://www.imdb.com/title/tt0212720\n=========\nTitle: I, Robot\nGenre: Action,Mystery,Sci-Fi\nDescription: In 2035, highly intelligent robots fill public service positions throughout the world, operating under three rules to keep humans safe. Despite his dark history with robotics, Detective Del Spooner (Will Smith) investigates the alleged suicide of U.S. Robotics founder Alfred Lanning (James Cromwell) and believes that a human-like robot (Alan Tudyk) murdered him. With the help of a robot expert (Bridget Moynahan), Spooner discovers a conspiracy that may enslave the human race.\nIMDB link: https://www.imdb.com/title/tt0343818\n=========\nTitle: The Iron Giant\nGenre: Action,Adventure,Animation\nDescription: In this animated adaptation of Ted Hughes' Cold War fable, a giant alien robot (Vin Diesel) crash-lands near the small town of Rockwell, Maine, in 1957. Exploring the area, a local 9-year-old boy, Hogarth, discovers the robot, and soon forms an unlikely friendship with him. When a paranoid government agent, Kent Mansley, becomes determined to destroy the robot, Hogarth and beatnik Dean McCoppin (Harry Connick Jr.) must do what they can to save the misunderstood machine.\nIMDB link: https://www.imdb.com/title/tt0129167\n=========\nFINAL ANSWER: 'The Iron Giant' is an animated movie about a friendship between a robot and a kid. It would be a good movie to watch with a kid.\nSOURCE: https://www.imdb.com/title/tt0129167\n\nQUESTION: {question}\n=========\n{summaries}\nFINAL ANSWER:\"\"\"\n\n\n# Create prompt template objects\ndocument_prompt = PromptTemplate.from_template(DOCUMENT_PROMPT)\nquestion_prompt = PromptTemplate.from_template(QUESTION_PROMPT)\n"
   },
   "outputs": [],
   "source": [
    "# Import PromptTemplate\n",
    "from langchain.prompts import PromptTemplate\n",
    "\n",
    "# Read/adapt the prompts below at will\n",
    "DOCUMENT_PROMPT = \"\"\"{page_content}\n",
    "IMDB link: {source}\n",
    "=========\"\"\"\n",
    "\n",
    "QUESTION_PROMPT = \"\"\"Given the following extracted parts of a movie database and a question, create a final answer with the IMDB link as source (\"SOURCE\").\n",
    "If you don't know the answer, just say that you don't know. Don't try to make up an answer.\n",
    "ALWAYS return a \"SOURCE\" part in your answer.\n",
    "\n",
    "QUESTION: What's a good movie about a robot to watch with my kid?\n",
    "=========\n",
    "Title: A.I. Artificial Intelligence\n",
    "Genre: Drama,Sci-Fi\n",
    "Description: A robotic boy, the first programmed to love, David (Haley Joel Osment) is adopted as a test case by a Cybertronics employee (Sam Robards) and his wife (Frances O'Connor). Though he gradually becomes their child, a series of unexpected circumstances make this life impossible for David. Without final acceptance by humans or machines, David embarks on a journey to discover where he truly belongs, uncovering a world in which the line between robot and machine is both vast and profoundly thin.\n",
    "IMDB link: https://www.imdb.com/title/tt0212720\n",
    "=========\n",
    "Title: I, Robot\n",
    "Genre: Action,Mystery,Sci-Fi\n",
    "Description: In 2035, highly intelligent robots fill public service positions throughout the world, operating under three rules to keep humans safe. Despite his dark history with robotics, Detective Del Spooner (Will Smith) investigates the alleged suicide of U.S. Robotics founder Alfred Lanning (James Cromwell) and believes that a human-like robot (Alan Tudyk) murdered him. With the help of a robot expert (Bridget Moynahan), Spooner discovers a conspiracy that may enslave the human race.\n",
    "IMDB link: https://www.imdb.com/title/tt0343818\n",
    "=========\n",
    "Title: The Iron Giant\n",
    "Genre: Action,Adventure,Animation\n",
    "Description: In this animated adaptation of Ted Hughes' Cold War fable, a giant alien robot (Vin Diesel) crash-lands near the small town of Rockwell, Maine, in 1957. Exploring the area, a local 9-year-old boy, Hogarth, discovers the robot, and soon forms an unlikely friendship with him. When a paranoid government agent, Kent Mansley, becomes determined to destroy the robot, Hogarth and beatnik Dean McCoppin (Harry Connick Jr.) must do what they can to save the misunderstood machine.\n",
    "IMDB link: https://www.imdb.com/title/tt0129167\n",
    "=========\n",
    "FINAL ANSWER: 'The Iron Giant' is an animated movie about a friendship between a robot and a kid. It would be a good movie to watch with a kid.\n",
    "SOURCE: https://www.imdb.com/title/tt0129167\n",
    "\n",
    "QUESTION: {question}\n",
    "=========\n",
    "{summaries}\n",
    "FINAL ANSWER:\"\"\"\n",
    "\n",
    "\n",
    "# Create prompt template objects\n",
    "document_prompt = PromptTemplate.from_template(DOCUMENT_PROMPT)\n",
    "question_prompt = PromptTemplate.from_template(QUESTION_PROMPT)\n"
   ]
  },
  {
   "cell_type": "markdown",
   "id": "09f5e246-7f71-4d1e-ac5a-c555e37f8849",
   "metadata": {},
   "source": [
    "## Task 7: Chain Everything Together to Perform RAG\n"
   ]
  },
  {
   "cell_type": "markdown",
   "id": "1975eeaf-23d0-4d71-a525-01ab10b64096",
   "metadata": {},
   "source": [
    "Finally, we have the vector index filled up with information, we have the prompt templates set up. That means we have everything we need to build a question-answering bot, which can use the information retrieved from Pinecone to answer questions about movies.\n",
    "\n",
    "We'll use the GPT-3.5 Turbo model of OpenAI in order to provide a completion for the question prompt above.\n",
    "\n",
    "Langchain provides a convenient concept, called [chains](https://python.langchain.com/docs/modules/chains/), that does some of the heavy lifting when you need to combine multiple AI systems into a single application. For the purpose of this project, we'll be using the `RetrievalQAWithSourcesChain` class. This chain will accept a `question` and a `retriever`. When asked a question, it will first use the retriever to retrieve relevant documents. Afterwards, it will combine the documents into a prompt and send it to the LLM to provide a completion.\n"
   ]
  },
  {
   "cell_type": "markdown",
   "id": "856c0f08-5973-42d3-a0b7-0aab148de95e",
   "metadata": {},
   "source": [
    "#### Note about GPT model versions\n",
    "\n",
    "The release of GPT 3.5 turbo from Jan 2024, `gpt-3.5-turbo-0125`, cannot consistently answer this question. The older release, `gpt-3.5-turbo-1106` performs better, or for best results, use the (more expensive) GPT-4o, `gpt-4o`.\n"
   ]
  },
  {
   "cell_type": "markdown",
   "id": "648165d9-66a0-4aa6-aae2-57f0136d89ad",
   "metadata": {},
   "source": [
    "### Instructions\n",
    "\n",
    "- From the `langchain.chains` module, import `RetrievalQAWithSourcesChain`.\n",
    "- From the `langchain_openai` package, import `ChatOpenAI`.\n",
    "- Create an OpenAI client LLM model. Make it a `ChatOpenAI()` object with `model_name` `\"gpt-3.5-turbo-1106\"` and `temperature` set to `0` (minimal randomness). Assign to `llm`.\n"
   ]
  },
  {
   "cell_type": "code",
   "execution_count": 15,
   "id": "c5382d5f-6813-41d3-9f55-7e404c050c76",
   "metadata": {
    "executionCancelledAt": null,
    "executionTime": 93,
    "lastExecutedAt": 1733727110152,
    "lastExecutedByKernel": "be3255dc-5997-467c-a88c-56e75a28b856",
    "lastScheduledRunId": null,
    "lastSuccessfullyExecutedCode": "# From the langchain.chains module, import RetrievalQAWithSourcesChain\nfrom langchain.chains import RetrievalQAWithSourcesChain\n\n\n# From the langchain_openai package, import ChatOpenAI\nfrom langchain_openai import ChatOpenAI\n\n# Create an OpenAI client LLM model. Assign to llm.\nllm = ChatOpenAI(model_name =\"gpt-3.5-turbo-1106\",temperature=0)",
    "outputsMetadata": {
     "0": {
      "height": 616,
      "type": "stream"
     }
    }
   },
   "outputs": [],
   "source": [
    "# From the langchain.chains module, import RetrievalQAWithSourcesChain\n",
    "from langchain.chains import RetrievalQAWithSourcesChain\n",
    "\n",
    "\n",
    "# From the langchain_openai package, import ChatOpenAI\n",
    "from langchain_openai import ChatOpenAI\n",
    "\n",
    "# Create an OpenAI client LLM model. Assign to llm.\n",
    "llm = ChatOpenAI(model_name =\"gpt-3.5-turbo-1106\",temperature=0)"
   ]
  },
  {
   "cell_type": "markdown",
   "id": "004a2091-d984-45fe-8048-12a31549a571",
   "metadata": {},
   "source": [
    "### Instructions\n",
    "\n",
    "Create the QA bot LLM chain.\n",
    "\n",
    "- Create a `RetrievalQAWithSourcesChain` from the chain type to answer questions.\n",
    "  - Set `chain_type` set to `\"stuff\"`. This is the simplest type of chain, and will just stuff the document context in one prompt.\n",
    "  - Set `llm` to the instance of `ChatOpenAI` you recently created.\n",
    "  - Use the `PromptTemplate` objects you created above to pass to `chain_type_kwargs`\n",
    "  - As a retriever, use the `docsearch.as_retriever` method you've seen before.\n",
    "- Invoke `qa_with_sources` to ask the LLM the question about movies.\n"
   ]
  },
  {
   "cell_type": "markdown",
   "id": "e661bb0a-6321-42f0-99a4-7018b4b99a2f",
   "metadata": {},
   "source": [
    "<details>\n",
    "<summary>Code hints</summary>\n",
    "<p>\n",
    "    \n",
    "To create a `RetrievalQAWithSourcesChain` bot chain from the chain type, call the `.from_chain_type()` method of `RetrievalQAWithSourcesChain`. The code pattern is as follows.\n",
    "    \n",
    "    \n",
    "```py\n",
    "qa_bot = RetrievalQAWithSourcesChain.from_chain_type(\n",
    "    chain_type=\"type of chain\",\n",
    "    llm=llm,\n",
    "    chain_type_kwargs={\n",
    "        \"document_prompt\": document_prompt,\n",
    "        \"prompt\": question_prompt,\n",
    "    },\n",
    "    retriever=vector_of_documents.as_retriever(),\n",
    ")\n",
    "```\n",
    "    \n",
    "</p>\n",
    "</details>\n"
   ]
  },
  {
   "cell_type": "code",
   "execution_count": 19,
   "id": "382934be-b94a-403b-b873-9ea45550e2ad",
   "metadata": {
    "executionCancelledAt": null,
    "executionTime": 1362,
    "lastExecutedAt": 1733727172741,
    "lastExecutedByKernel": "be3255dc-5997-467c-a88c-56e75a28b856",
    "lastScheduledRunId": null,
    "lastSuccessfullyExecutedCode": "# Create the QA bot LLM chain\nqa_with_answer = RetrievalQAWithSourcesChain.from_chain_type(\n    chain_type=\"stuff\",\n    llm=llm,\n    chain_type_kwargs={\n        \"document_prompt\": document_prompt,\n        \"prompt\": question_prompt,\n    },\n    retriever=docsearch.as_retriever(),\n)\n\n# Invoke qa_with_sources to ask the LLM the question about movies\nqa_with_answer(question)",
    "outputsMetadata": {
     "0": {
      "height": 101,
      "type": "stream"
     }
    }
   },
   "outputs": [
    {
     "name": "stderr",
     "output_type": "stream",
     "text": [
      "/usr/local/lib/python3.10/dist-packages/langchain_core/_api/deprecation.py:119: LangChainDeprecationWarning:\n",
      "\n",
      "The method `Chain.__call__` was deprecated in langchain 0.1.0 and will be removed in 0.3.0. Use invoke instead.\n",
      "\n"
     ]
    },
    {
     "data": {
      "text/plain": [
       "{'question': \"What's a good movie about an epic viking?\",\n",
       " 'answer': \"'The Northman' is an epic movie about a Viking prince seeking justice for his murdered father. It would be a good movie to watch about an epic Viking.\\n\",\n",
       " 'sources': 'https://www.imdb.com/title/tt11138512/'}"
      ]
     },
     "execution_count": 19,
     "metadata": {},
     "output_type": "execute_result"
    }
   ],
   "source": [
    "# Create the QA bot LLM chain\n",
    "qa_with_answer = RetrievalQAWithSourcesChain.from_chain_type(\n",
    "    chain_type=\"stuff\",\n",
    "    llm=llm,\n",
    "    chain_type_kwargs={\n",
    "        \"document_prompt\": document_prompt,\n",
    "        \"prompt\": question_prompt,\n",
    "    },\n",
    "    retriever=docsearch.as_retriever(),\n",
    ")\n",
    "\n",
    "# Invoke qa_with_sources to ask the LLM the question about movies\n",
    "qa_with_answer(question)"
   ]
  },
  {
   "cell_type": "markdown",
   "id": "7f6c51c7-bbbb-4f0f-b218-850221f3dcdf",
   "metadata": {},
   "source": [
    "## Task 8: Add Debug Logging\n"
   ]
  },
  {
   "cell_type": "markdown",
   "id": "fce00845-9741-4979-91aa-e43ff0db5299",
   "metadata": {},
   "source": [
    "Let's take a moment to address what we've achieved by using RAG, which would be impossible to achieve with just using GPT-3.5 Turbo as an LLM:\n",
    "\n",
    "1. We enabled the LLM to answer the question with factual information, which can even be information from after ChatGPT's knowledge cutoff (which is September 2021).\n",
    "2. We enabled the LLM to provide sources with the answer it generates.\n",
    "\n",
    "Pretty neat, right?\n",
    "\n",
    "We saw that langchain is very convenient when it comes to quickly creating smart AI systems. However, for learning, it can be quite challenging to understand what's happening behind the scenes. For example, from the code in Task 7, it's not clear that `qa_with_sources` actually first calls Pinecone to retrieve documents, then uses those documents to fill in the prompt to send along to the `gpt-3.5-turbo` LLM.\n",
    "\n",
    "Let's look at how we can get some more insights into how this all works.\n"
   ]
  },
  {
   "cell_type": "markdown",
   "id": "1b998f52-93c9-411c-ba74-473955de4b8e",
   "metadata": {},
   "source": [
    "### Instructions\n"
   ]
  },
  {
   "cell_type": "markdown",
   "id": "c19bfda1-fe9a-4344-9dd9-613d33598d21",
   "metadata": {},
   "source": [
    "- Import `langchain`\n",
    "- Set `.debug` to `True` on `langchain`\n",
    "- Run `qa_with_sources(question)` again\n",
    "\n",
    "Observe the information that is printed in the output. Langchain enables you to run chains of LLMs or other AI systems, one after the other. The input for the next chain is passed on from the previous, where new information can be added by, for example, using embeddings to find relevant documents. Each chain or LLM is marked with a tag like `[chain/start]` or `[llm/start]`. When a final response is fetched from the last part of the chain, the output travels back up the chain. This is marked with the `[chain/end]` and `[llm/end]` marks.\n"
   ]
  },
  {
   "cell_type": "code",
   "execution_count": 21,
   "id": "474d98a8-33ce-4898-a641-4853f17e5738",
   "metadata": {
    "executionCancelledAt": null,
    "executionTime": 910,
    "lastExecutedAt": 1733727325485,
    "lastExecutedByKernel": "be3255dc-5997-467c-a88c-56e75a28b856",
    "lastScheduledRunId": null,
    "lastSuccessfullyExecutedCode": "# Import langchain\nimport langchain\n\n# Enable debug logging\nlangchain.debug = True\n\n# Invoke qa_with_sources to ask the LLM the same question about movies\nqa_with_answer(question)",
    "outputsMetadata": {
     "0": {
      "height": 574,
      "type": "stream"
     }
    }
   },
   "outputs": [
    {
     "name": "stdout",
     "output_type": "stream",
     "text": [
      "\u001b[32;1m\u001b[1;3m[chain/start]\u001b[0m \u001b[1m[chain:RetrievalQAWithSourcesChain] Entering Chain run with input:\n",
      "\u001b[0m{\n",
      "  \"question\": \"What's a good movie about an epic viking?\"\n",
      "}\n",
      "\u001b[32;1m\u001b[1;3m[chain/start]\u001b[0m \u001b[1m[chain:RetrievalQAWithSourcesChain > chain:StuffDocumentsChain] Entering Chain run with input:\n",
      "\u001b[0m[inputs]\n",
      "\u001b[32;1m\u001b[1;3m[chain/start]\u001b[0m \u001b[1m[chain:RetrievalQAWithSourcesChain > chain:StuffDocumentsChain > chain:LLMChain] Entering Chain run with input:\n",
      "\u001b[0m{\n",
      "  \"question\": \"What's a good movie about an epic viking?\",\n",
      "  \"summaries\": \"Title: Vikingane\\nGenre: Comedy,History\\nDescription: The residents of an 8th-century Viking village experience political rivalry, social change and innovations that upend their culture and way of life.\\nIMDB link: https://www.imdb.com/title/tt5905354/\\n=========\\n\\nTitle: The Northman\\nGenre: Action,Adventure,Drama\\nDescription: The Northman is an epic revenge thriller, that explores how far a Viking prince will go to seek justice for his murdered father.\\nIMDB link: https://www.imdb.com/title/tt11138512/\\n=========\\n\\nTitle: Vinland Saga\\nGenre: Action,Adventure,Animation\\nDescription: Raised by the Vikings who murdered his family after they raided his land, Thorfinn becomes a terrifying warrior, forever seeking to kill the band's leader, Askeladd, and avenge his father.\\nIMDB link: https://www.imdb.com/title/tt10233448/\\n=========\\n\\nTitle: Vikings: Valhalla\\nGenre: Action,Adventure,Drama\\nDescription: The adventures of famous Vikings as they blaze new paths in an ever-changing Europe.\\nIMDB link: https://www.imdb.com/title/tt11311302/\\n=========\"\n",
      "}\n",
      "\u001b[32;1m\u001b[1;3m[llm/start]\u001b[0m \u001b[1m[chain:RetrievalQAWithSourcesChain > chain:StuffDocumentsChain > chain:LLMChain > llm:ChatOpenAI] Entering LLM run with input:\n",
      "\u001b[0m{\n",
      "  \"prompts\": [\n",
      "    \"Human: Given the following extracted parts of a movie database and a question, create a final answer with the IMDB link as source (\\\"SOURCE\\\").\\nIf you don't know the answer, just say that you don't know. Don't try to make up an answer.\\nALWAYS return a \\\"SOURCE\\\" part in your answer.\\n\\nQUESTION: What's a good movie about a robot to watch with my kid?\\n=========\\nTitle: A.I. Artificial Intelligence\\nGenre: Drama,Sci-Fi\\nDescription: A robotic boy, the first programmed to love, David (Haley Joel Osment) is adopted as a test case by a Cybertronics employee (Sam Robards) and his wife (Frances O'Connor). Though he gradually becomes their child, a series of unexpected circumstances make this life impossible for David. Without final acceptance by humans or machines, David embarks on a journey to discover where he truly belongs, uncovering a world in which the line between robot and machine is both vast and profoundly thin.\\nIMDB link: https://www.imdb.com/title/tt0212720\\n=========\\nTitle: I, Robot\\nGenre: Action,Mystery,Sci-Fi\\nDescription: In 2035, highly intelligent robots fill public service positions throughout the world, operating under three rules to keep humans safe. Despite his dark history with robotics, Detective Del Spooner (Will Smith) investigates the alleged suicide of U.S. Robotics founder Alfred Lanning (James Cromwell) and believes that a human-like robot (Alan Tudyk) murdered him. With the help of a robot expert (Bridget Moynahan), Spooner discovers a conspiracy that may enslave the human race.\\nIMDB link: https://www.imdb.com/title/tt0343818\\n=========\\nTitle: The Iron Giant\\nGenre: Action,Adventure,Animation\\nDescription: In this animated adaptation of Ted Hughes' Cold War fable, a giant alien robot (Vin Diesel) crash-lands near the small town of Rockwell, Maine, in 1957. Exploring the area, a local 9-year-old boy, Hogarth, discovers the robot, and soon forms an unlikely friendship with him. When a paranoid government agent, Kent Mansley, becomes determined to destroy the robot, Hogarth and beatnik Dean McCoppin (Harry Connick Jr.) must do what they can to save the misunderstood machine.\\nIMDB link: https://www.imdb.com/title/tt0129167\\n=========\\nFINAL ANSWER: 'The Iron Giant' is an animated movie about a friendship between a robot and a kid. It would be a good movie to watch with a kid.\\nSOURCE: https://www.imdb.com/title/tt0129167\\n\\nQUESTION: What's a good movie about an epic viking?\\n=========\\nTitle: Vikingane\\nGenre: Comedy,History\\nDescription: The residents of an 8th-century Viking village experience political rivalry, social change and innovations that upend their culture and way of life.\\nIMDB link: https://www.imdb.com/title/tt5905354/\\n=========\\n\\nTitle: The Northman\\nGenre: Action,Adventure,Drama\\nDescription: The Northman is an epic revenge thriller, that explores how far a Viking prince will go to seek justice for his murdered father.\\nIMDB link: https://www.imdb.com/title/tt11138512/\\n=========\\n\\nTitle: Vinland Saga\\nGenre: Action,Adventure,Animation\\nDescription: Raised by the Vikings who murdered his family after they raided his land, Thorfinn becomes a terrifying warrior, forever seeking to kill the band's leader, Askeladd, and avenge his father.\\nIMDB link: https://www.imdb.com/title/tt10233448/\\n=========\\n\\nTitle: Vikings: Valhalla\\nGenre: Action,Adventure,Drama\\nDescription: The adventures of famous Vikings as they blaze new paths in an ever-changing Europe.\\nIMDB link: https://www.imdb.com/title/tt11311302/\\n=========\\nFINAL ANSWER:\"\n",
      "  ]\n",
      "}\n",
      "\u001b[36;1m\u001b[1;3m[llm/end]\u001b[0m \u001b[1m[chain:RetrievalQAWithSourcesChain > chain:StuffDocumentsChain > chain:LLMChain > llm:ChatOpenAI] [548ms] Exiting LLM run with output:\n",
      "\u001b[0m{\n",
      "  \"generations\": [\n",
      "    [\n",
      "      {\n",
      "        \"text\": \"'The Northman' is an epic movie about a Viking prince seeking justice for his murdered father. It would be a good movie to watch about an epic viking.\\nSOURCE: https://www.imdb.com/title/tt11138512/\",\n",
      "        \"generation_info\": {\n",
      "          \"finish_reason\": \"stop\",\n",
      "          \"logprobs\": null\n",
      "        },\n",
      "        \"type\": \"ChatGeneration\",\n",
      "        \"message\": {\n",
      "          \"lc\": 1,\n",
      "          \"type\": \"constructor\",\n",
      "          \"id\": [\n",
      "            \"langchain\",\n",
      "            \"schema\",\n",
      "            \"messages\",\n",
      "            \"AIMessage\"\n",
      "          ],\n",
      "          \"kwargs\": {\n",
      "            \"content\": \"'The Northman' is an epic movie about a Viking prince seeking justice for his murdered father. It would be a good movie to watch about an epic viking.\\nSOURCE: https://www.imdb.com/title/tt11138512/\",\n",
      "            \"response_metadata\": {\n",
      "              \"token_usage\": {\n",
      "                \"completion_tokens\": 49,\n",
      "                \"prompt_tokens\": 825,\n",
      "                \"total_tokens\": 874,\n",
      "                \"prompt_tokens_details\": {\n",
      "                  \"cached_tokens\": 0,\n",
      "                  \"audio_tokens\": 0\n",
      "                },\n",
      "                \"completion_tokens_details\": {\n",
      "                  \"reasoning_tokens\": 0,\n",
      "                  \"audio_tokens\": 0,\n",
      "                  \"accepted_prediction_tokens\": 0,\n",
      "                  \"rejected_prediction_tokens\": 0\n",
      "                }\n",
      "              },\n",
      "              \"model_name\": \"gpt-3.5-turbo-1106\",\n",
      "              \"system_fingerprint\": \"fp_00d6d6ab11\",\n",
      "              \"finish_reason\": \"stop\",\n",
      "              \"logprobs\": null\n",
      "            },\n",
      "            \"type\": \"ai\",\n",
      "            \"id\": \"run-7c446859-9f0b-4965-ba81-3ec11ecab24c-0\",\n",
      "            \"tool_calls\": [],\n",
      "            \"invalid_tool_calls\": []\n",
      "          }\n",
      "        }\n",
      "      }\n",
      "    ]\n",
      "  ],\n",
      "  \"llm_output\": {\n",
      "    \"token_usage\": {\n",
      "      \"completion_tokens\": 49,\n",
      "      \"prompt_tokens\": 825,\n",
      "      \"total_tokens\": 874,\n",
      "      \"prompt_tokens_details\": {\n",
      "        \"cached_tokens\": 0,\n",
      "        \"audio_tokens\": 0\n",
      "      },\n",
      "      \"completion_tokens_details\": {\n",
      "        \"reasoning_tokens\": 0,\n",
      "        \"audio_tokens\": 0,\n",
      "        \"accepted_prediction_tokens\": 0,\n",
      "        \"rejected_prediction_tokens\": 0\n",
      "      }\n",
      "    },\n",
      "    \"model_name\": \"gpt-3.5-turbo-1106\",\n",
      "    \"system_fingerprint\": \"fp_00d6d6ab11\"\n",
      "  },\n",
      "  \"run\": null\n",
      "}\n",
      "\u001b[36;1m\u001b[1;3m[chain/end]\u001b[0m \u001b[1m[chain:RetrievalQAWithSourcesChain > chain:StuffDocumentsChain > chain:LLMChain] [550ms] Exiting Chain run with output:\n",
      "\u001b[0m{\n",
      "  \"text\": \"'The Northman' is an epic movie about a Viking prince seeking justice for his murdered father. It would be a good movie to watch about an epic viking.\\nSOURCE: https://www.imdb.com/title/tt11138512/\"\n",
      "}\n",
      "\u001b[36;1m\u001b[1;3m[chain/end]\u001b[0m \u001b[1m[chain:RetrievalQAWithSourcesChain > chain:StuffDocumentsChain] [552ms] Exiting Chain run with output:\n",
      "\u001b[0m{\n",
      "  \"output_text\": \"'The Northman' is an epic movie about a Viking prince seeking justice for his murdered father. It would be a good movie to watch about an epic viking.\\nSOURCE: https://www.imdb.com/title/tt11138512/\"\n",
      "}\n",
      "\u001b[36;1m\u001b[1;3m[chain/end]\u001b[0m \u001b[1m[chain:RetrievalQAWithSourcesChain] [897ms] Exiting Chain run with output:\n",
      "\u001b[0m{\n",
      "  \"answer\": \"'The Northman' is an epic movie about a Viking prince seeking justice for his murdered father. It would be a good movie to watch about an epic viking.\\n\",\n",
      "  \"sources\": \"https://www.imdb.com/title/tt11138512/\"\n",
      "}\n"
     ]
    },
    {
     "data": {
      "text/plain": [
       "{'question': \"What's a good movie about an epic viking?\",\n",
       " 'answer': \"'The Northman' is an epic movie about a Viking prince seeking justice for his murdered father. It would be a good movie to watch about an epic viking.\\n\",\n",
       " 'sources': 'https://www.imdb.com/title/tt11138512/'}"
      ]
     },
     "execution_count": 21,
     "metadata": {},
     "output_type": "execute_result"
    }
   ],
   "source": [
    "# Import langchain\n",
    "import langchain\n",
    "\n",
    "# Enable debug logging\n",
    "langchain.debug = True\n",
    "\n",
    "# Invoke qa_with_sources to ask the LLM the same question about movies\n",
    "qa_with_answer(question)"
   ]
  }
 ],
 "metadata": {
  "editor": "DataLab",
  "kernelspec": {
   "display_name": "Python 3 (ipykernel)",
   "language": "python",
   "name": "python3"
  },
  "language_info": {
   "codemirror_mode": {
    "name": "ipython",
    "version": 3
   },
   "file_extension": ".py",
   "mimetype": "text/x-python",
   "name": "python",
   "nbconvert_exporter": "python",
   "pygments_lexer": "ipython3",
   "version": "3.10.12"
  }
 },
 "nbformat": 4,
 "nbformat_minor": 5
}
